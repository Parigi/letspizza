{
 "cells": [
  {
   "cell_type": "code",
   "execution_count": null,
   "metadata": {},
   "outputs": [],
   "source": [
    "pip install neo4j py2neo"
   ]
  },
  {
   "cell_type": "code",
   "execution_count": null,
   "metadata": {},
   "outputs": [],
   "source": [
    "pip install pdfplumber"
   ]
  },
  {
   "cell_type": "code",
   "execution_count": 10,
   "metadata": {},
   "outputs": [],
   "source": [
    "from neo4j import GraphDatabase\n",
    "from py2neo import Graph, Node, Relationship\n",
    "import pdfplumber\n",
    "import re\n"
   ]
  },
  {
   "cell_type": "code",
   "execution_count": 3,
   "metadata": {},
   "outputs": [],
   "source": [
    "# neo4j first instance parameters\n",
    "NEO4J_URI= \"neo4j+s://0482640f.databases.neo4j.io\"\n",
    "NEO4J_USERNAME= \"neo4j\"\n",
    "NEO4J_PASSWORD= \"PNvdaZlk326-ja2hRD1K97ZUUMnD4mj0NsecZNu5-9k\"\n",
    "AURA_INSTANCEID= \"0482640f\"\n",
    "AURA_INSTANCENAME= \"Instance01\""
   ]
  },
  {
   "cell_type": "code",
   "execution_count": 4,
   "metadata": {},
   "outputs": [],
   "source": [
    "# Connessione al database\n",
    "graph = Graph(NEO4J_URI, auth=(NEO4J_USERNAME, NEO4J_PASSWORD))"
   ]
  },
  {
   "cell_type": "code",
   "execution_count": 7,
   "metadata": {},
   "outputs": [],
   "source": [
    "file_path = \"./Hackapizza Dataset/Misc/Manuale di Cucina.pdf\""
   ]
  },
  {
   "cell_type": "code",
   "execution_count": 9,
   "metadata": {},
   "outputs": [
    {
     "name": "stdout",
     "output_type": "stream",
     "text": [
      "Introduzione\n",
      "Io sono il grande Sirius Cosmo, lo chef stellare per eccellenza. Se non mi conoscete ancora, preparatevi:\n",
      "il mio nome è sinonimo di cucina galattica. In questo manuale vi insegnerò tutto quello che serve per\n",
      "diventare veri cuochi, da Alpha Centauri fino alla Nebulosa del Granchio (dove, a proposito, non hanno\n",
      "neanche un crostaceo decente). Impareremo insieme le licenze e le abilità fondamentali per cucinare\n",
      "nello spazio senza mandare in tilt lʼintero sistema di supporto vitale della\n"
     ]
    }
   ],
   "source": [
    "def extract_text_from_pdf(file_path):\n",
    "    text = \"\"\n",
    "    with pdfplumber.open(file_path) as pdf:\n",
    "        for page in pdf.pages:\n",
    "            text += page.extract_text() + \"\\n\"\n",
    "    return text\n",
    "\n",
    "# Leggiamo il PDF\n",
    "pdf_text = extract_text_from_pdf(file_path)\n",
    "\n",
    "# Stampiamo un'anteprima\n",
    "print(pdf_text[:500])  # Stampa i primi 500 caratteri\n"
   ]
  },
  {
   "cell_type": "code",
   "execution_count": 13,
   "metadata": {},
   "outputs": [
    {
     "name": "stdout",
     "output_type": "stream",
     "text": [
      "📖 Capitoli trovati:\n",
      "- Capitolo 1\n",
      "- Capitolo 2\n",
      "- Capitolo 3\n",
      "- Capitolo 4\n",
      "- Capitolo 5\n"
     ]
    }
   ],
   "source": [
    "def extract_chapters_from_pdf(file_path):\n",
    "    text = \"\"\n",
    "    with pdfplumber.open(file_path) as pdf:\n",
    "        for page in pdf.pages:\n",
    "            text += page.extract_text() + \"\\n\"\n",
    "\n",
    "    # Suddividiamo il testo nei capitoli basandoci su \"CAPITOLO X\"\n",
    "    chapters = re.split(r'(Capitolo \\d+)', text)\n",
    "    \n",
    "    structured_data = {}\n",
    "    for i in range(1, len(chapters), 2):\n",
    "        chapter_title = chapters[i].strip()\n",
    "        chapter_content = chapters[i + 1].strip()\n",
    "        structured_data[chapter_title] = chapter_content\n",
    "    \n",
    "    return structured_data\n",
    "\n",
    "# Leggiamo il PDF e estraiamo i capitoli\n",
    "pdf_chapters = extract_chapters_from_pdf(file_path)\n",
    "\n",
    "# Stampiamo i titoli dei capitoli\n",
    "print(\"📖 Capitoli trovati:\")\n",
    "for chapter in pdf_chapters.keys():\n",
    "    print(f\"- {chapter}\")\n"
   ]
  },
  {
   "cell_type": "code",
   "execution_count": 20,
   "metadata": {},
   "outputs": [
    {
     "name": "stdout",
     "output_type": "stream",
     "text": [
      "✅ Grafo del manuale di cucina creato!\n"
     ]
    }
   ],
   "source": [
    "def create_cooking_graph(chapters):\n",
    "    # Nodo principale del manuale\n",
    "    manual_node = Node(\"Document\", name=\"Manuale di Cucina\")\n",
    "    graph.create(manual_node)\n",
    "\n",
    "    for chapter, content in chapters.items():\n",
    "        # Creiamo un nodo Capitolo\n",
    "        chapter_node = Node(\"Chapter\", name=chapter, content=content[:500])  # Solo un estratto\n",
    "        graph.create(chapter_node)\n",
    "        graph.create(Relationship(manual_node, \"CONTAINS\", chapter_node))\n",
    "\n",
    "        # Se il capitolo riguarda tecniche di cottura, estraiamo concetti chiave\n",
    "        if \"3\" in chapter or \"4\" in chapter or \"5\" in chapter:\n",
    "            techniques = re.findall(r\"\\n([A-Z\\s]+)\\n\", content)  # Titoli in maiuscolo\n",
    "            for technique in techniques[:10]:  # Limitiamo a 10 tecniche per esempio\n",
    "                technique_node = Node(\"Technique\", name=technique.strip())\n",
    "                graph.create(technique_node)\n",
    "                graph.create(Relationship(chapter_node, \"DESCRIBE\", technique_node))\n",
    "\n",
    "    print(\"✅ Grafo del manuale di cucina creato!\")\n",
    "\n",
    "# Creiamo il grafo\n",
    "create_cooking_graph(pdf_chapters)"
   ]
  },
  {
   "cell_type": "code",
   "execution_count": 21,
   "metadata": {},
   "outputs": [
    {
     "name": "stdout",
     "output_type": "stream",
     "text": [
      "🔥 Tecniche di Cottura:\n"
     ]
    }
   ],
   "source": [
    "query = \"\"\"\n",
    "MATCH (c:Chapter)-[:DESCRIBE]->(t:Technique)\n",
    "WHERE c.name CONTAINS '3' OR c.name CONTAINS '4' OR c.name CONTAINS '5'\n",
    "RETURN c.name, t.name\n",
    "\"\"\"\n",
    "results = graph.run(query)\n",
    "\n",
    "print(\"🔥 Tecniche di Cottura:\")\n",
    "for record in results:\n",
    "    print(f\"- {record['t.name']} (dal {record['c.name']})\")"
   ]
  }
 ],
 "metadata": {
  "kernelspec": {
   "display_name": "Python 3",
   "language": "python",
   "name": "python3"
  },
  "language_info": {
   "codemirror_mode": {
    "name": "ipython",
    "version": 3
   },
   "file_extension": ".py",
   "mimetype": "text/x-python",
   "name": "python",
   "nbconvert_exporter": "python",
   "pygments_lexer": "ipython3",
   "version": "3.12.3"
  }
 },
 "nbformat": 4,
 "nbformat_minor": 2
}
