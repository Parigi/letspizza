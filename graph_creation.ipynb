{
 "cells": [
  {
   "cell_type": "code",
   "execution_count": null,
   "metadata": {},
   "outputs": [],
   "source": [
    "pip install neo4j py2neo"
   ]
  },
  {
   "cell_type": "code",
   "execution_count": null,
   "metadata": {},
   "outputs": [],
   "source": [
    "pip install pdfplumber"
   ]
  },
  {
   "cell_type": "code",
   "execution_count": 6,
   "metadata": {},
   "outputs": [],
   "source": [
    "from neo4j import GraphDatabase\n",
    "from py2neo import Graph, Node, Relationship\n",
    "import pdfplumber"
   ]
  },
  {
   "cell_type": "code",
   "execution_count": 3,
   "metadata": {},
   "outputs": [],
   "source": [
    "# neo4j first instance parameters\n",
    "NEO4J_URI= \"neo4j+s://0482640f.databases.neo4j.io\"\n",
    "NEO4J_USERNAME= \"neo4j\"\n",
    "NEO4J_PASSWORD= \"PNvdaZlk326-ja2hRD1K97ZUUMnD4mj0NsecZNu5-9k\"\n",
    "AURA_INSTANCEID= \"0482640f\"\n",
    "AURA_INSTANCENAME= \"Instance01\""
   ]
  },
  {
   "cell_type": "code",
   "execution_count": 4,
   "metadata": {},
   "outputs": [],
   "source": [
    "# Connessione al database\n",
    "graph = Graph(NEO4J_URI, auth=(NEO4J_USERNAME, NEO4J_PASSWORD))"
   ]
  },
  {
   "cell_type": "code",
   "execution_count": 7,
   "metadata": {},
   "outputs": [],
   "source": [
    "file_path = \"./Hackapizza Dataset/Misc/Manuale di Cucina.pdf\""
   ]
  },
  {
   "cell_type": "code",
   "execution_count": 9,
   "metadata": {},
   "outputs": [
    {
     "name": "stdout",
     "output_type": "stream",
     "text": [
      "Introduzione\n",
      "Io sono il grande Sirius Cosmo, lo chef stellare per eccellenza. Se non mi conoscete ancora, preparatevi:\n",
      "il mio nome è sinonimo di cucina galattica. In questo manuale vi insegnerò tutto quello che serve per\n",
      "diventare veri cuochi, da Alpha Centauri fino alla Nebulosa del Granchio (dove, a proposito, non hanno\n",
      "neanche un crostaceo decente). Impareremo insieme le licenze e le abilità fondamentali per cucinare\n",
      "nello spazio senza mandare in tilt lʼintero sistema di supporto vitale della\n"
     ]
    }
   ],
   "source": [
    "def extract_text_from_pdf(file_path):\n",
    "    text = \"\"\n",
    "    with pdfplumber.open(file_path) as pdf:\n",
    "        for page in pdf.pages:\n",
    "            text += page.extract_text() + \"\\n\"\n",
    "    return text\n",
    "\n",
    "# Leggiamo il PDF\n",
    "pdf_text = extract_text_from_pdf(file_path)\n",
    "\n",
    "# Stampiamo un'anteprima\n",
    "print(pdf_text[:500])  # Stampa i primi 500 caratteri\n"
   ]
  },
  {
   "cell_type": "code",
   "execution_count": null,
   "metadata": {},
   "outputs": [],
   "source": [
    "from py2neo import Node, Relationship\n",
    "import re\n",
    "\n",
    "def create_graph(text):\n",
    "    # Creiamo il nodo del documento\n",
    "    doc_node = Node(\"Document\", name=\"Manuale di Cucina\", content=text[:1000])  # Salviamo solo un estratto\n",
    "    graph.create(doc_node)\n",
    "\n",
    "    # Estraiamo le ricette con un pattern semplice (esempio: titoli di ricette in MAIUSCOLO)\n",
    "    recipes = re.findall(r\"\\n([A-Z\\s]+)\\n\", text)\n",
    "    \n",
    "    for recipe in recipes[:10]:  # Limitiamo a 10 per esempio\n",
    "        recipe_node = Node(\"Recipe\", name=recipe.strip())\n",
    "        graph.create(recipe_node)\n",
    "        graph.create(Relationship(doc_node, \"CONTAINS\", recipe_node))\n",
    "\n",
    "    print(\"✅ Grafo creato con successo su AuraDB!\")\n",
    "\n",
    "# Creiamo il grafo\n",
    "create_graph(pdf_text)\n"
   ]
  }
 ],
 "metadata": {
  "kernelspec": {
   "display_name": "Python 3",
   "language": "python",
   "name": "python3"
  },
  "language_info": {
   "codemirror_mode": {
    "name": "ipython",
    "version": 3
   },
   "file_extension": ".py",
   "mimetype": "text/x-python",
   "name": "python",
   "nbconvert_exporter": "python",
   "pygments_lexer": "ipython3",
   "version": "3.12.3"
  }
 },
 "nbformat": 4,
 "nbformat_minor": 2
}
