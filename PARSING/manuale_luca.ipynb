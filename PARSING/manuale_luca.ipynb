{
 "cells": [
  {
   "cell_type": "code",
   "execution_count": 68,
   "metadata": {},
   "outputs": [],
   "source": [
    "import pdfplumber\n",
    "import re\n",
    "import json\n",
    "import os\n",
    "import PyPDF2\n",
    "\n",
    "\n",
    "from dotenv import load_dotenv\n",
    "from neo4j import GraphDatabase\n",
    "from py2neo import Graph, Node, Relationship\n",
    "from langchain_openai import AzureChatOpenAI\n",
    "from langchain_core.prompts import ChatPromptTemplate\n",
    "from langchain.text_splitter import RecursiveCharacterTextSplitter\n",
    "from typing import List, Dict"
   ]
  },
  {
   "cell_type": "code",
   "execution_count": 69,
   "metadata": {},
   "outputs": [
    {
     "data": {
      "text/plain": [
       "True"
      ]
     },
     "execution_count": 69,
     "metadata": {},
     "output_type": "execute_result"
    }
   ],
   "source": [
    "file_path = \"../Hackapizza Dataset/Misc/Manuale di Cucina.pdf\"\n",
    "load_dotenv()"
   ]
  },
  {
   "cell_type": "code",
   "execution_count": 70,
   "metadata": {},
   "outputs": [
    {
     "name": "stdout",
     "output_type": "stream",
     "text": [
      "📖 Capitoli trovati:\n",
      "- Capitolo 1\n",
      "- Capitolo 2\n",
      "- Capitolo 3\n",
      "- Capitolo 4\n",
      "- Capitolo 5\n"
     ]
    }
   ],
   "source": [
    "# una semplice estrazione dei capitoli dal pdf\n",
    "def extract_chapters_from_pdf(file_path):\n",
    "    text = \"\"\n",
    "    with pdfplumber.open(file_path) as pdf:\n",
    "        for page in pdf.pages:\n",
    "            text += page.extract_text() + \"\\n\"\n",
    "\n",
    "    # Suddividiamo il testo nei capitoli basandoci su \"CAPITOLO X\"\n",
    "    chapters = re.split(r'(Capitolo \\d+)', text)\n",
    "    \n",
    "    structured_data = {}\n",
    "    for i in range(1, len(chapters), 2):\n",
    "        chapter_title = chapters[i].strip()\n",
    "        chapter_content = chapters[i + 1].strip()\n",
    "        structured_data[chapter_title] = chapter_content\n",
    "    \n",
    "    return structured_data\n",
    "\n",
    "# Leggiamo il PDF e estraiamo i capitoli\n",
    "pdf_chapters = extract_chapters_from_pdf(file_path)\n",
    "\n",
    "# Stampiamo i titoli dei capitoli\n",
    "print(\"📖 Capitoli trovati:\")\n",
    "for chapter in pdf_chapters.keys():\n",
    "    print(f\"- {chapter}\")"
   ]
  },
  {
   "cell_type": "code",
   "execution_count": 71,
   "metadata": {},
   "outputs": [
    {
     "data": {
      "text/plain": [
       "\": Tecniche di Preparazione\\nNel vasto universo della cucina spaziale, la preparazione è la chiave per ogni grande piatto. In questo\\ncapitolo, esploreremo le tecniche che trasformano gli ingredienti da semplici materie prime a protagonisti\\ndi un'esperienza culinaria stellare. Ogni passaggio è fondamentale per creare la base perfetta per la\\ncottura. Preparatevi a scoprire come l'arte della preparazione, nel cosmo, richieda precisione e ingegno,\\nma soprattutto visione.\\nMarinatura\\nLa marinatura spaziale è un'arte che sfrutta il tempo e lo spazio, dove ogni condimento si mescola in\\nperfetta armonia con gli ingredienti. In assenza di gravità, le molecole si distribuiscono in modo unico,\\namplificando sapori e aromi. Imparare a marinare nel vuoto cosmico è fondamentale per ottenere piatti\\nche sfidano ogni legge della fisica culinaria, rivelando gusti straordinari in ogni morso.\\nMarinatura a Infusione Gravitazionale\\nCome funziona: il cibo è collocato in una camera a gravità alternata, che intensifica lʼassorbimento della\\nmarinata nei tessuti alimentari.\\nVantaggi: il sapore penetra in profondità per una marinatura uniforme e intensa.\\nSvantaggi: necessita di un “Grav-Infuser” di alta precisione, con un dispendio energetico significativo.\\nMarinatura Temporale Sincronizzata\\nCome funziona: sfrutta una bolla temporale sincronizzata per accelerare il processo di marinatura,\\ncomprimendo ore in minuti.\\nVantaggi: marinatura completa in un tempo minimo, senza compromessi sulla qualità.\\nSvantaggi: rischi di interferenze temporali minori; vietata per uso domestico senza supervisione.\\nMarinatura Psionica\\nCome funziona: uno chef telepate concentra la propria energia mentali per manipolare le molecole della\\nmarinata, fondendole con l'alimento.\\nVantaggi: sapori unici e personalizzati ottenuti attraverso la fusione creativa tra mente e ingredienti.\\nSvantaggi: richiede chef con competenze psioniche avanzate\\nMarinatura tramite Reazioni d'Antimateria Diluite\\nCome funziona: micro-quantità di antimateria generano reazioni controllate che ionizzano la marinata,\\nincrementando lʼassorbimento attraverso la tensione superficiale.\\nVantaggi: penetrazione rapida della marinata anche negli alimenti più densi, con un caratteristico\\nretrogusto “cosmico”.\\nSvantaggi: manipolazione rischiosa che richiede per legge ambienti protetti.\\nMarinatura Sotto Zero a Polarità Inversa\\nCome funziona: gli alimenti sono immersi in soluzioni marinate a temperatura sub-critica, mentre una\\npolarità magnetica inversa aiuta lʼassorbimento dei sapori.\\nVantaggi: conserva al massimo i profumi e le caratteristiche volatili della marinata.\\nSvantaggi: richiede tecnologia avanzata per regolare con precisione le condizioni polari.\\nAffumicatura\\nL'affumicatura è una tecnica che va ben oltre la semplice espressione di fumo. Qui, lʼarte di infondere\\nsapore sfrutta il vuoto cosmico per distribuire il fumo in modo uniforme e affascinante, regalando ai piatti\\nun aroma profondo che si espande in modo inaspettato. La gestione della temperatura e del flusso di\\nfumo è fondamentale per ottenere un affumicato perfetto, che aggiunga una dimensione nuova e\\nsorprendente a ogni ingrediente, senza alterarne la qualità. Un processo che, se eseguito correttamente,\\nporta il cibo a nuove vette di complessità e intensità.\\nAffumicatura a Stratificazione Quantica\\nCome funziona: il cibo viene posizionato in una camera che alterna strati quantici, permettendo a\\nparticelle di fumo quantisticamente compresse di penetrare attraverso i livelli molecolari dell'alimento.\\nVantaggi: penetrazione uniforme del sapore affumicato, con un aroma che sembra provenire dall'interno\\ndell'alimento stesso. Svantaggi: può causare una leggera variazione del sapore se non calibrato con\\nprecisione, rendendo l'affumicatura imprevedibile senza un operatore esperto.\\nAffumicatura Temporale Risonante\\nCome funziona: sfrutta la risonanza temporale per infondere i sapori del fumo nel cibo attraverso onde\\ncroniche, condensando anni di affumicatura in pochi istanti.\\nVantaggi: sapore profondo e complesso, ottenuto in modo efficace e veloce.\\nSvantaggi: necessita di apparecchiature sofisticate per il controllo delle onde croniche, con potenziali\\nrischi di disallineamento temporale.\\nAffumicatura Psionica Sensoriale\\nCome funziona: uno chef telepate genera un campo psionico sensoriale che simula lʼeffetto del fumo\\ncon la mente e attiva i recettori gustativi in modo mirato.\\nVantaggi: sapore affumicato personalizzato e adattabile ai gusti individuali.\\nSvantaggi: richiede esperti psionici capaci di mantenere l'integrità sensoriale durante il processo.\\nAffumicatura tramite Big Bang Microcosmico\\nCome funziona: una minima quantità di energia simula un piccolo big bang, creando particelle\\nsubatomiche di fumo che si fondono con lʼalimento a livello nucleare.\\nVantaggi: intensità di sapore senza eguali, con un caratteristico tocco “universale”.\\nSvantaggi: operazione estremamente rischiosa, eseguibile solo in ambienti altamente controllati.\\nAffumicatura Polarizzata a Freddo Iperbarico\\nCome funziona: lʼalimento è posto in ambienti iperbarici a bassissima temperatura dove flussi di fumo\\nvengono polarizzati per attrarre molecole d'aroma all'interno del cibo.\\nVantaggi: sapore affumicato ricco e ben conservato, che preserva anche le note aromatiche più delicate.\\nSvantaggi: Nessuna in particolare\\nFermentazione\\nLa fermentazione galattica è una danza di batteri e microrganismi che trasformano gli ingredienti in\\nprelibatezze inaspettate. Nel profondo dello spazio, dove l'ossigeno è limitato, questi piccoli fermenti\\nlavorano con la stessa precisione di un orologio stellare. Conoscere la fermentazione significa aprire la\\nporta a sapori complessi e sorprendenti, che si evolvono in modi che solo l'universo potrebbe ispirare.\\nFermentazione Quantica a Strati Multiversali\\nCome funziona: il cibo viene posizionato in un dispositivo di fermentazione che sfrutta strati quantici\\nprovenienti da diversi universi paralleli, facilitando l'interazione di enzimi transdimensionali con la materia\\norganica.\\nVantaggi: fermentazione rapida ed efficiente, con la possibilità di ottenere sapori unici e mai\\nsperimentati nel nostro universo.\\nSvantaggi: richiede calibrazioni precise per evitare l'ingresso di invasioni aliene da altri universi.\\nFermentazione Temporale Sincronizzata\\nCome funziona: utilizza flussi di tempo sincronizzati per accelerare o rallentare il processo fermentativo,\\nmodificando la percezione temporale degli ingredienti per ottenere immediatamente maturità e\\ncomplessità dei sapori.\\nVantaggi: riduce drasticamente i tempi tradizionali di fermentazione pur mantenendo profili aromatici\\nprofondi.\\nSvantaggi: richiede una tecnologia avanzata di controllo temporale con possibilità di instabilità\\ncronologica.\\nFermentazione Psionica Energetica\\nCome funziona: uno chef telepate concentra campi energetici psionici per guidare e migliorare il\\nprocesso naturale di fermentazione, manipolando gli enzimi grazie al potere del pensiero.\\nVantaggi: personalizzazione estrema dei sapori e dei profili aromatici in base alle preferenze individuali\\ndellʼutente.\\nSvantaggi: esige lʼabilità rarefatta di esperti psionici per evitare squilibri gustativi.\\nFermentazione tramite Singolarità\\nCome funziona: sfrutta le radiazioni di Hawking di una piccola singolarità quantum-confinata che\\ncatalizza i processi fermentativi su scala molecolare\\nVantaggi: crea intensi sapori e texture complesse mai viste prima, grazie all'influenza gravitazionale\\nunica.\\nSvantaggi: operazione altamente rischiosa, richiede controlli estremamente scrupolosi.\\nFermentazione Quantico Biometrica\\nCome funziona: gli ingredienti sono posti in ambienti sotto un elevato campo quantistico-metabolico\\ndove una biometria avanzata regola i processi enzimatici per assicurare risultati costanti e prevedibili.\\nVantaggi: mantiene la freschezza del prodotto finale con un gusto complesso ma ben equilibrato, adatto\\nanche ai palati più fini.\\nSvantaggi: Alcune volte i campi quantistici rischiano di distruggere la realtà attuale. Tuttavia lʼeffetto è\\ntemporaneo, lʼunica precauzione è quella di tenere lontano dalla portata e vista delle donne incinta.\\nTecniche di Impasto\\nLʼimpasto richiede abilità e precisione, poiché la gravità zero cambia completamente il modo in cui\\nlavoriamo farina, acqua e lievito. Che si tratti di una pasta perfetta o di un pane che cresce nel vuoto,\\nlʼimpasto nello spazio è una questione di tempo e coordinazione. Ogni movimento deve essere calibrato\\nper garantire la giusta consistenza e il giusto equilibrio, trasformando ogni impasto in una creazione che\\nlievita più velocemente di una navetta interstellare.\\nImpasto Gravitazionale Vorticoso\\nCome funziona: utilizza campi gravitazionali artificialmente generati per creare vortici che mescolano gli\\ningredienti in modo uniforme, sfruttando la rotazione a spirale per incorporare facilmente aria e umidità.\\nVantaggi: raggiunge una consistenza perfetta e omogenea senza il rischio di sovraccarico meccanico;\\nideale per impasti leggeri come soufflé e torte.\\nSvantaggi: richiede unʼaccurata regolazione delle forze gravitazionali per evitare eruzioni improvvise di\\nmateriale nell'ambiente di lavoro.\\nAmalgamazione Sintetica Molecolare\\nCome funziona: manipola direttamente le catene molecolari degli ingredienti attraverso catalizzatori\\nsintetici, promuovendo la coesione spontanea e naturale dell'impasto.\\nVantaggi: garantisce una perfetta fusione dei sapori e delle texture, permettendo esperimenti creativi\\ncon nuovi tipi di farine e composti proteici.\\nSvantaggi: esige la comprensione delle interazioni chimiche intricate; gli errori possono alterare\\nirreversibilmente il gusto finale.\\nImpasto a Campi Magnetici Dualistici\\nCome funziona: sfrutta poli magnetici opposti per modellare vari strati di ingredienti, creando strutture\\nlaminari straordinariamente sottili e accoppiate senza necessità fisica di pressione.\\nVantaggi: ideale per preparazioni a strati complessi come i croissant, dove è richiesta una\\ndifferenziazione di texture estremamente precisa.\\nSvantaggi: controllare lʼintensità magnetica è cruciale; campi troppo potenti possono disintegrare\\nl'impasto anziché comporlo.\\nSinergia Elettro-Osmotica Programmabile\\nCome funziona: questa tecnica avanza utilizza moduli elettro-osmotici che programmano sequenze\\nprecise di innesto dei liquidi nei solidi, ottimizzando la distribuzione idrica nell'impasto.\\nVantaggi: permette il controllo totale sullʼidratamento, prevenendo eccedenze dʼacqua o indesiderate\\nsecchezze in impasti delicati come quelli della pasta fresca.\\nSvantaggi: esige monitoraggio continuo dei parametri elettro-osmotici per mantenere la meraviglia tech\\nsotto stretto controllo operativo.\\nModellatura Onirica Tetrazionale\\nCome funziona: ispirata ai misteriosi mondi al confine del sogno, questa tecnica consente agli\\ningredienti di intessere tessiture nellʼeterea matrice cosmica tramite una sfera onirico-mistica in cui\\ntempo e spazio fluttuano in narrativa fluida ed arcana.\\nVantaggi: apre a creazioni culinarie dai sapori altrettanto effimeri quanto profondamente evocativi,\\nimpossibili da replicare con mezzi convenzionali.\\nSvantaggi: richiede manipolatori specializzati dellʼonirismo culinario capaci di fissare coscienze materiali\\nsenza far smarrire gli elementi nelle dimensioni del subconscio.\\nSurgelamento\\nNel cosmo, il surgelamento non è solo un metodo di conservazione, ma una tecnica che sfrutta il gelo\\nspaziale per bloccare i sapori nel loro stato migliore. Il congelamento permette di mantenere intatte\\nfreschezza e qualità, creando piatti che sembrano appena usciti dal cuore di un pianeta lontano, pronti a\\nstupire con ogni dettaglio perfettamente conservato.\\nCryo-Tessitura Energetica Polarizzata\\nCome funziona: sfrutta campi energetici polarizzati per intrappolare il calore residuo e indurre un\\nsurgelamento immediato, mantenendo la struttura molecolare degli alimenti intatta.\\nVantaggi: consente un raffreddamento ultra-rapido che preserva perfettamente la freschezza dei sapori\\ne le vitamine; ideale per frutta e verdura.\\nSvantaggi: richiede una sincronizzazione esatta delle onde energetiche per prevenire la cristallizzazione\\nindesiderata che potrebbe compromettere la texture.\\nCongelamento Bio-Luminiscente Sincronico\\nCome funziona: utilizza bioluminescenza naturale in combinazione con impulsi freddi, generando una\\nmatrice congelante uniforme che avvolge ogni food element in un abbraccio brillante e scintillante.\\nVantaggi: offre un surgelamento visivamente affascinante che mantiene intatti colore e gusto, senza\\nricorrere a sostanze chimiche artificiali.\\nSvantaggi: lʼimplementazione efficiente di questa tecnica richiede condizioni ambientali specifiche per\\nevitare dispersioni luminose inefficaci.\\nCristallizzazione Temporale Reversiva\\nCome funziona: proietta gli alimenti attraverso un campo di distorsione temporale controllata, bloccando\\nistanti di tempo nel ghiaccio senza alterare la realtà circostante.\\nVantaggi: offre un congelamento ritardato inverso che preserva i nutrienti intatti come se il tempo non\\nfosse passato, ideale per piatti preparati con anticipo.\\nSvantaggi: deve monitorare attentamente i flussi temporali per evitare paradossi o collisioni temporali\\nindesiderate.\\nCongelazione Iperdimensionalmente Stratificata\\nCome funziona: colloca gli alimenti in compartimenti multidimensionali dove ogni strato di consistenza\\nviene congelato separatamente da flussi termodinamici indipendenti.\\nVantaggi: permette una preservazione concentrica specifica che massimizza gli elementi gustativi dei\\ncibi strutturati come mousse o dessert stratificati.\\nSvantaggi: esige lʼuso di complessi algoritmi spatial-metric per garantire lʼequilibrio dimensionale\\nnecessario.\\nSurgelamento Antimaterico a Risonanza Inversa\\nCome funziona: utilizza fluttuazioni controllate di antimateria per instaurare uno stato di superposizione\\nrisonante che neutralizza energia termica a livello quantistico.\\nVantaggi: conserva le qualità organolettiche al di là delle possibilità dei metodi tradizionali; applicabile a\\ndelikatessen ultra-fini e prelibatezze delicate oltre confini spaziali ordinari.\\nSvantaggi: manipolazioni sul filo dell'antimateria richiedono precauzioni estreme per evitare\\ndisintegrazioni o cataclismi subatomici imprevedibili.\""
      ]
     },
     "execution_count": 71,
     "metadata": {},
     "output_type": "execute_result"
    }
   ],
   "source": [
    "pdf_chapters[\"Capitolo 3\"]"
   ]
  },
  {
   "cell_type": "code",
   "execution_count": 73,
   "metadata": {},
   "outputs": [],
   "source": [
    "# Recupera endpoint e chiave dalle variabili d'ambiente\n",
    "api_base = os.getenv(\"AZURE_OPENAI_API_BASE\")\n",
    "api_key = os.getenv(\"AZURE_OPENAI_API_KEY\")\n",
    "\n",
    "\n",
    "def crea_llm(api_key: str, api_base: str) -> AzureChatOpenAI:\n",
    "    \"\"\"\n",
    "    Crea un'istanza del modello linguistico Azure OpenAI.\n",
    "    \n",
    "    Args:\n",
    "        api_key (str): La chiave API di Azure\n",
    "        api_base (str): L'URL base dell'API Azure\n",
    "        \n",
    "    Returns:\n",
    "        AzureChatOpenAI: Istanza configurata del modello\n",
    "    \"\"\"\n",
    "    return AzureChatOpenAI(\n",
    "        openai_api_version=\"2024-08-01-preview\",\n",
    "        azure_deployment=\"o1-mini\",\n",
    "        azure_endpoint=api_base,\n",
    "        api_key=api_key,\n",
    "        temperature=1\n",
    "    )\n"
   ]
  },
  {
   "cell_type": "code",
   "execution_count": 112,
   "metadata": {},
   "outputs": [],
   "source": [
    "def estrai_tecniche_e_macro(llm: AzureChatOpenAI, testo: str) -> tuple[dict, List[str]]:\n",
    "    \"\"\"\n",
    "    Estrae le macrotecniche con descrizioni e le tecniche specifiche dal testo.\n",
    "    \n",
    "    Args:\n",
    "        llm (AzureChatOpenAI): Istanza del modello linguistico\n",
    "        testo (str): Il testo da analizzare\n",
    "        \n",
    "    Returns:\n",
    "        tuple[dict, List[str]]: \n",
    "            - Dizionario delle macrotecniche con le loro descrizioni\n",
    "            - Lista delle tecniche specifiche\n",
    "    \"\"\"\n",
    "    # Prima estrazione: macrotecniche con descrizioni\n",
    "    prompt_macro = \"\"\"\n",
    "    Analizza il seguente testo e identifica le macrotecniche culinarie.\n",
    "    Restituisci un oggetto JSON con il nome della macrotecnica come chiave e la sua descrizione come valore.\n",
    "    Restituisci SOLO il JSON, senza formattazione markdown o decoratori.\n",
    "    \n",
    "    Testo:\n",
    "    {}\n",
    "    \"\"\".format(testo)\n",
    "    \n",
    "    response_macro = llm.invoke(prompt_macro)\n",
    "    content_macro = response_macro.content.strip()\n",
    "    \n",
    "    # Pulizia del JSON delle macrotecniche\n",
    "    if content_macro.startswith('```') and content_macro.endswith('```'):\n",
    "        content_macro = '\\n'.join(content_macro.split('\\n')[1:-1])\n",
    "    if content_macro.startswith('json'):\n",
    "        content_macro = content_macro[4:].strip()\n",
    "    \n",
    "    try:\n",
    "        macrotecniche = json.loads(content_macro)\n",
    "    except json.JSONDecodeError:\n",
    "        print(\"Errore nel parsing JSON delle macrotecniche:\", content_macro)\n",
    "        macrotecniche = {}\n",
    "    \n",
    "    # Seconda estrazione: tecniche specifiche\n",
    "    prompt_tecniche = \"\"\"\n",
    "    Analizza il seguente testo e elenca SOLO le tecniche specifiche di preparazione (non le macrotecniche).\n",
    "    Elenca solo i nomi delle tecniche, una per riga, senza punteggiatura o numerazione.\n",
    "    Non aggiungere spiegazioni o altro testo.\n",
    "    \n",
    "    Testo:\n",
    "    {}\n",
    "    \"\"\".format(testo)\n",
    "    \n",
    "    response_tecniche = llm.invoke(prompt_tecniche)\n",
    "    \n",
    "    # Elaborazione delle tecniche specifiche\n",
    "    tecniche = [\n",
    "        riga.strip() \n",
    "        for riga in response_tecniche.content.split('\\n') \n",
    "        if riga.strip() and not riga.startswith('-') and not riga[0].isdigit()\n",
    "    ]\n",
    "    \n",
    "    # Rimuovi duplicati mantenendo l'ordine\n",
    "    tecniche = list(dict.fromkeys(tecniche))\n",
    "    \n",
    "    return macrotecniche, tecniche"
   ]
  },
  {
   "cell_type": "code",
   "execution_count": null,
   "metadata": {},
   "outputs": [],
   "source": [
    "def estrai_dettagli_tecniche_per_grafo(llm: AzureChatOpenAI, testo: str, tecniche: List[str]) -> dict:\n",
    "    \"\"\"\n",
    "    Estrae informazioni strutturate per ogni tecnica dal testo, ottimizzate per GraphRAG.\n",
    "    \n",
    "    Args:\n",
    "        llm (AzureChatOpenAI): Istanza del modello linguistico\n",
    "        testo (str): Il testo originale da analizzare\n",
    "        tecniche (List[str]): Lista delle tecniche trovate\n",
    "        \n",
    "    Returns:\n",
    "        dict: Dizionario strutturato per costruzione del grafo\n",
    "    \"\"\"\n",
    "    prompt_template = \"\"\"\n",
    "    Analizza la tecnica culinaria \"{tecnica}\" nel seguente testo e restituisci le informazioni in questo formato JSON strutturato:\n",
    "    {{\n",
    "        \"tecnica\": \"nome della tecnica\",\n",
    "        \"come_funziona\": \"breve descrizione del funzionamento della tecnica\",\n",
    "        \"vantaggi\": \"vantaggi della tecnica\",\n",
    "        \"svantaggi\": \"svantaggi della tecnica\"\n",
    "    }}\n",
    "    Restituisci SOLO il JSON, senza formattazione markdown o altri decoratori.\n",
    "    \n",
    "    Testo da analizzare:\n",
    "    {testo}\n",
    "    \"\"\"\n",
    "    \n",
    "    dettagli_grafo = {}\n",
    "    \n",
    "    for tecnica in tecniche:\n",
    "        prompt = prompt_template.format(tecnica=tecnica, testo=testo)\n",
    "        response = llm.invoke(prompt)\n",
    "        \n",
    "        try:\n",
    "            # Assumendo che la risposta sia in formato JSON valido\n",
    "            import json\n",
    "            dettagli_grafo[tecnica] = json.loads(response.content)\n",
    "        except json.JSONDecodeError:\n",
    "            # Fallback se il JSON non è valido\n",
    "            dettagli_grafo[tecnica] = {\"error\": \"Formato non valido\", \"raw_content\": response.content}\n",
    "    \n",
    "    return dettagli_grafo"
   ]
  },
  {
   "cell_type": "code",
   "execution_count": 113,
   "metadata": {},
   "outputs": [],
   "source": [
    "# Utilizzo:\n",
    "llm = crea_llm(api_key, api_base)\n",
    "testo_input = pdf_chapters[\"Capitolo 3\"]"
   ]
  },
  {
   "cell_type": "code",
   "execution_count": 114,
   "metadata": {},
   "outputs": [
    {
     "name": "stdout",
     "output_type": "stream",
     "text": [
      "\n",
      "Macrotecniche:\n",
      "\n",
      "Marinatura:\n",
      "La marinatura spaziale è un'arte che sfrutta il tempo e lo spazio, dove ogni condimento si mescola in perfetta armonia con gli ingredienti. In assenza di gravità, le molecole si distribuiscono in modo unico, amplificando sapori e aromi. Imparare a marinare nel vuoto cosmico è fondamentale per ottenere piatti che sfidano ogni legge della fisica culinaria, rivelando gusti straordinari in ogni morso.\n",
      "\n",
      "Affumicatura:\n",
      "L'affumicatura è una tecnica che va ben oltre la semplice espressione di fumo. Qui, lʼarte di infondere sapore sfrutta il vuoto cosmico per distribuire il fumo in modo uniforme e affascinante, regalando ai piatti un aroma profondo che si espande in modo inaspettato. La gestione della temperatura e del flusso di fumo è fondamentale per ottenere un affumicato perfetto, che aggiunga una dimensione nuova e sorprendente a ogni ingrediente, senza alterarne la qualità.\n",
      "\n",
      "Fermentazione:\n",
      "La fermentazione galattica è una danza di batteri e microrganismi che trasformano gli ingredienti in prelibatezze inaspettate. Nel profondo dello spazio, dove l'ossigeno è limitato, questi piccoli fermenti lavorano con la stessa precisione di un orologio stellare. Conoscere la fermentazione significa aprire la porta a sapori complessi e sorprendenti, che si evolvono in modi che solo l'universo potrebbe ispirare.\n",
      "\n",
      "Tecniche di Impasto:\n",
      "Lʼimpasto richiede abilità e precisione, poiché la gravità zero cambia completamente il modo in cui lavoriamo farina, acqua e lievito. Che si tratti di una pasta perfetta o di un pane che cresce nel vuoto, lʼimpasto nello spazio è una questione di tempo e coordinazione. Ogni movimento deve essere calibrato per garantire la giusta consistenza e il giusto equilibrio, trasformando ogni impasto in una creazione che lievita più velocemente di una navetta interstellare.\n",
      "\n",
      "Surgelamento:\n",
      "Nel cosmo, il surgelamento non è solo un metodo di conservazione, ma una tecnica che sfrutta il gelo spaziale per bloccare i sapori nel loro stato migliore. Il congelamento permette di mantenere intatte freschezza e qualità, creando piatti che sembrano appena usciti dal cuore di un pianeta lontano, pronti a stupire con ogni dettaglio perfettamente conservato.\n",
      "\n",
      "Tecniche specifiche:\n",
      "- Marinatura a Infusione Gravitazionale\n",
      "- Marinatura Temporale Sincronizzata\n",
      "- Marinatura Psionica\n",
      "- Marinatura tramite Reazioni d'Antimateria Diluite\n",
      "- Marinatura Sotto Zero a Polarità Inversa\n",
      "- Affumicatura a Stratificazione Quantica\n",
      "- Affumicatura Temporale Risonante\n",
      "- Affumicatura Psionica Sensoriale\n",
      "- Affumicatura tramite Big Bang Microcosmico\n",
      "- Affumicatura Polarizzata a Freddo Iperbarico\n",
      "- Fermentazione Quantica a Strati Multiversali\n",
      "- Fermentazione Temporale Sincronizzata\n",
      "- Fermentazione Psionica Energetica\n",
      "- Fermentazione tramite Singolarità\n",
      "- Fermentazione Quantico Biometrica\n",
      "- Impasto Gravitazionale Vorticoso\n",
      "- Amalgamazione Sintetica Molecolare\n",
      "- Impasto a Campi Magnetici Dualistici\n",
      "- Sinergia Elettro-Osmotica Programmabile\n",
      "- Modellatura Onirica Tetrazionale\n",
      "- Cryo-Tessitura Energetica Polarizzata\n",
      "- Congelamento Bio-Luminiscente Sincronico\n",
      "- Cristallizzazione Temporale Reversiva\n",
      "- Congelazione Iperdimensionalmente Stratificata\n",
      "- Surgelamento Antimaterico a Risonanza Inversa\n"
     ]
    }
   ],
   "source": [
    "macrotecniche, tecniche = estrai_tecniche_e_macro(llm, testo_input)\n",
    "\n",
    "# Per visualizzare i risultati:\n",
    "print(\"\\nMacrotecniche:\")\n",
    "for macro, descrizione in macrotecniche.items():\n",
    "    print(f\"\\n{macro}:\")\n",
    "    print(descrizione)\n",
    "\n",
    "print(\"\\nTecniche specifiche:\")\n",
    "for tecnica in tecniche:\n",
    "    print(f\"- {tecnica}\")"
   ]
  },
  {
   "cell_type": "code",
   "execution_count": 115,
   "metadata": {},
   "outputs": [],
   "source": [
    "dettagli_per_grafo = estrai_dettagli_tecniche_per_grafo(llm, testo_input, tecniche)"
   ]
  },
  {
   "cell_type": "code",
   "execution_count": 125,
   "metadata": {},
   "outputs": [
    {
     "data": {
      "text/plain": [
       "{'Marinatura a Infusione Gravitazionale': {'tecnica': 'Marinatura a Infusione Gravitazionale',\n",
       "  'come_funziona': 'Il cibo è collocato in una camera a gravità alternata, che intensifica lʼassorbimento della marinata nei tessuti alimentari.',\n",
       "  'vantaggi': 'Il sapore penetra in profondità per una marinatura uniforme e intensa.',\n",
       "  'svantaggi': 'Necessita di un “Grav-Infuser” di alta precisione, con un dispendio energetico significativo.'},\n",
       " 'Marinatura Temporale Sincronizzata': {'tecnica': 'Marinatura Temporale Sincronizzata',\n",
       "  'come_funziona': 'sfrutta una bolla temporale sincronizzata per accelerare il processo di marinatura, comprimendo ore in minuti.',\n",
       "  'vantaggi': 'marinatura completa in un tempo minimo, senza compromessi sulla qualità.',\n",
       "  'svantaggi': 'rischi di interferenze temporali minori; vietata per uso domestico senza supervisione.'},\n",
       " 'Marinatura Psionica': {'tecnica': 'Marinatura Psionica',\n",
       "  'come_funziona': \"Uno chef telepate concentra la propria energia mentale per manipolare le molecole della marinata, fondendole con l'alimento.\",\n",
       "  'vantaggi': 'Sapori unici e personalizzati ottenuti attraverso la fusione creativa tra mente e ingredienti.',\n",
       "  'svantaggi': 'Richiede chef con competenze psioniche avanzate'},\n",
       " \"Marinatura tramite Reazioni d'Antimateria Diluite\": {'tecnica': \"Marinatura tramite Reazioni d'Antimateria Diluite\",\n",
       "  'come_funziona': 'micro-quantità di antimateria generano reazioni controllate che ionizzano la marinata, incrementando lʼassorbimento attraverso la tensione superficiale.',\n",
       "  'vantaggi': 'penetrazione rapida della marinata anche negli alimenti più densi, con un caratteristico retrogusto “cosmico”.',\n",
       "  'svantaggi': 'manipolazione rischiosa che richiede per legge ambienti protetti.'},\n",
       " 'Marinatura Sotto Zero a Polarità Inversa': {'tecnica': 'Marinatura Sotto Zero a Polarità Inversa',\n",
       "  'come_funziona': 'gli alimenti sono immersi in soluzioni marinate a temperatura sub-critica, mentre una polarità magnetica inversa aiuta lʼassorbimento dei sapori',\n",
       "  'vantaggi': 'conserva al massimo i profumi e le caratteristiche volatili della marinata',\n",
       "  'svantaggi': 'richiede tecnologia avanzata per regolare con precisione le condizioni polari'},\n",
       " 'Affumicatura a Stratificazione Quantica': {'tecnica': 'Affumicatura a Stratificazione Quantica',\n",
       "  'come_funziona': \"Il cibo viene posizionato in una camera che alterna strati quantici, permettendo a particelle di fumo quantisticamente compresse di penetrare attraverso i livelli molecolari dell'alimento.\",\n",
       "  'vantaggi': \"Penetrazione uniforme del sapore affumicato, con un aroma che sembra provenire dall'interno dell'alimento stesso.\",\n",
       "  'svantaggi': \"Può causare una leggera variazione del sapore se non calibrato con precisione, rendendo l'affumicatura imprevedibile senza un operatore esperto.\"},\n",
       " 'Affumicatura Temporale Risonante': {'tecnica': 'Affumicatura Temporale Risonante',\n",
       "  'come_funziona': 'Sfrutta la risonanza temporale per infondere i sapori del fumo nel cibo attraverso onde croniche, condensando anni di affumicatura in pochi istanti.',\n",
       "  'vantaggi': 'Sapore profondo e complesso, ottenuto in modo efficace e veloce.',\n",
       "  'svantaggi': 'Necessita di apparecchiature sofisticate per il controllo delle onde croniche, con potenziali rischi di disallineamento temporale.'},\n",
       " 'Affumicatura Psionica Sensoriale': {'tecnica': 'Affumicatura Psionica Sensoriale',\n",
       "  'come_funziona': 'Uno chef telepate genera un campo psionico sensoriale che simula lʼeffetto del fumo con la mente e attiva i recettori gustativi in modo mirato.',\n",
       "  'vantaggi': 'Sapore affumicato personalizzato e adattabile ai gusti individuali.',\n",
       "  'svantaggi': \"Richiede esperti psionici capaci di mantenere l'integrità sensoriale durante il processo.\"},\n",
       " 'Affumicatura tramite Big Bang Microcosmico': {'tecnica': 'Affumicatura tramite Big Bang Microcosmico',\n",
       "  'come_funziona': 'una minima quantità di energia simula un piccolo big bang, creando particelle subatomiche di fumo che si fondono con lʼalimento a livello nucleare.',\n",
       "  'vantaggi': 'intensità di sapore senza eguali, con un caratteristico tocco “universale”.',\n",
       "  'svantaggi': 'operazione estremamente rischiosa, eseguibile solo in ambienti altamente controllati.'},\n",
       " 'Affumicatura Polarizzata a Freddo Iperbarico': {'tecnica': 'Affumicatura Polarizzata a Freddo Iperbarico',\n",
       "  'come_funziona': \"L'alimento è posto in ambienti iperbarici a bassissima temperatura dove flussi di fumo vengono polarizzati per attrarre molecole d'aroma all'interno del cibo.\",\n",
       "  'vantaggi': 'Sapore affumicato ricco e ben conservato, che preserva anche le note aromatiche più delicate.',\n",
       "  'svantaggi': 'Nessuna in particolare'},\n",
       " 'Fermentazione Quantica a Strati Multiversali': {'tecnica': 'Fermentazione Quantica a Strati Multiversali',\n",
       "  'come_funziona': \"Il cibo viene posizionato in un dispositivo di fermentazione che sfrutta strati quantici provenienti da diversi universi paralleli, facilitando l'interazione di enzimi transdimensionali con la materia organica.\",\n",
       "  'vantaggi': 'Fermentazione rapida ed efficiente, con la possibilità di ottenere sapori unici e mai sperimentati nel nostro universo.',\n",
       "  'svantaggi': \"Richiede calibrazioni precise per evitare l'ingresso di invasioni aliene da altri universi.\"},\n",
       " 'Fermentazione Temporale Sincronizzata': {'tecnica': 'Fermentazione Temporale Sincronizzata',\n",
       "  'come_funziona': 'utilizza flussi di tempo sincronizzati per accelerare o rallentare il processo fermentativo, modificando la percezione temporale degli ingredienti per ottenere immediatamente maturità e complessità dei sapori.',\n",
       "  'vantaggi': 'riduce drasticamente i tempi tradizionali di fermentazione pur mantenendo profili aromatici profondi.',\n",
       "  'svantaggi': 'richiede una tecnologia avanzata di controllo temporale con possibilità di instabilità cronologica.'},\n",
       " 'Fermentazione Psionica Energetica': {'tecnica': 'Fermentazione Psionica Energetica',\n",
       "  'come_funziona': 'Uno chef telepate concentra campi energetici psionici per guidare e migliorare il processo naturale di fermentazione, manipolando gli enzimi grazie al potere del pensiero.',\n",
       "  'vantaggi': \"Personalizzazione estrema dei sapori e dei profili aromatici in base alle preferenze individuali dell'utente.\",\n",
       "  'svantaggi': \"Esige l'abilità rarefatta di esperti psionici per evitare squilibri gustativi.\"},\n",
       " 'Fermentazione tramite Singolarità': {'tecnica': 'Fermentazione tramite Singolarità',\n",
       "  'come_funziona': 'Sfrutta le radiazioni di Hawking di una piccola singolarità quantum-confinata che catalizza i processi fermentativi su scala molecolare',\n",
       "  'vantaggi': \"Crea intensi sapori e texture complesse mai viste prima, grazie all'influenza gravitazionale unica.\",\n",
       "  'svantaggi': 'Operazione altamente rischiosa, richiede controlli estremamente scrupolosi.'},\n",
       " 'Fermentazione Quantico Biometrica': {'tecnica': 'Fermentazione Quantico Biometrica',\n",
       "  'come_funziona': 'Gli ingredienti sono posti in ambienti sotto un elevato campo quantistico-metabolico dove una biometria avanzata regola i processi enzimatici per assicurare risultati costanti e prevedibili.',\n",
       "  'vantaggi': 'Mantiene la freschezza del prodotto finale con un gusto complesso ma ben equilibrato, adatto anche ai palati più fini.',\n",
       "  'svantaggi': \"Alcune volte i campi quantistici rischiano di distruggere la realtà attuale. Tuttavia l'effetto è temporaneo, l'unica precauzione è quella di tenere lontano dalla portata e vista delle donne incinta.\"},\n",
       " 'Impasto Gravitazionale Vorticoso': {'tecnica': 'Impasto Gravitazionale Vorticoso',\n",
       "  'come_funziona': 'Utilizza campi gravitazionali artificialmente generati per creare vortici che mescolano gli ingredienti in modo uniforme, sfruttando la rotazione a spirale per incorporare facilmente aria e umidità.',\n",
       "  'vantaggi': 'Raggiunge una consistenza perfetta e omogenea senza il rischio di sovraccarico meccanico; ideale per impasti leggeri come soufflé e torte.',\n",
       "  'svantaggi': \"Richiede unʼaccurata regolazione delle forze gravitazionali per evitare eruzioni improvvise di materiale nell'ambiente di lavoro.\"},\n",
       " 'Amalgamazione Sintetica Molecolare': {'tecnica': 'Amalgamazione Sintetica Molecolare',\n",
       "  'come_funziona': \"Manipola direttamente le catene molecolari degli ingredienti attraverso catalizzatori sintetici, promuovendo la coesione spontanea e naturale dell'impasto.\",\n",
       "  'vantaggi': 'Garantisce una perfetta fusione dei sapori e delle texture, permettendo esperimenti creativi con nuovi tipi di farine e composti proteici.',\n",
       "  'svantaggi': 'Esige la comprensione delle interazioni chimiche intricate; gli errori possono alterare irreversibilmente il gusto finale.'},\n",
       " 'Impasto a Campi Magnetici Dualistici': {'tecnica': 'Impasto a Campi Magnetici Dualistici',\n",
       "  'come_funziona': 'sfrutta poli magnetici opposti per modellare vari strati di ingredienti, creando strutture laminari straordinariamente sottili e accoppiate senza necessità fisica di pressione.',\n",
       "  'vantaggi': 'ideale per preparazioni a strati complessi come i croissant, dove è richiesta una differenziazione di texture estremamente precisa.',\n",
       "  'svantaggi': \"controllare l’intensità magnetica è cruciale; campi troppo potenti possono disintegrare l'impasto anziché comporlo.\"},\n",
       " 'Sinergia Elettro-Osmotica Programmabile': {'tecnica': 'Sinergia Elettro-Osmotica Programmabile',\n",
       "  'come_funziona': \"Questa tecnica avanza utilizza moduli elettro-osmotici che programmano sequenze precise di innesto dei liquidi nei solidi, ottimizzando la distribuzione idrica nell'impasto.\",\n",
       "  'vantaggi': 'Permette il controllo totale sullʼidratamento, prevenendo eccedenze dʼacqua o indesiderate secchezze in impasti delicati come quelli della pasta fresca.',\n",
       "  'svantaggi': 'Esige monitoraggio continuo dei parametri elettro-osmotici per mantenere la meraviglia tech sotto stretto controllo operativo.'},\n",
       " 'Modellatura Onirica Tetrazionale': {'tecnica': 'Modellatura Onirica Tetrazionale',\n",
       "  'come_funziona': 'Ispirata ai misteriosi mondi al confine del sogno, questa tecnica consente agli ingredienti di intessere tessiture nellʼeterea matrice cosmica tramite una sfera onirico-mistica in cui tempo e spazio fluttuano in narrativa fluida ed arcana.',\n",
       "  'vantaggi': 'Apre a creazioni culinarie dai sapori altrettanto effimeri quanto profondamente evocativi, impossibili da replicare con mezzi convenzionali.',\n",
       "  'svantaggi': 'Richiede manipolatori specializzati dellʼonirismo culinario capaci di fissare coscienze materiali senza far smarrire gli elementi nelle dimensioni del subconscio.'},\n",
       " 'Cryo-Tessitura Energetica Polarizzata': {'tecnica': 'Cryo-Tessitura Energetica Polarizzata',\n",
       "  'come_funziona': 'Sfrutta campi energetici polarizzati per intrappolare il calore residuo e indurre un surgelamento immediato, mantenendo la struttura molecolare degli alimenti intatta.',\n",
       "  'vantaggi': 'Consente un raffreddamento ultra-rapido che preserva perfettamente la freschezza dei sapori e le vitamine; ideale per frutta e verdura.',\n",
       "  'svantaggi': 'Richiede una sincronizzazione esatta delle onde energetiche per prevenire la cristallizzazione indesiderata che potrebbe compromettere la texture.'},\n",
       " 'Congelamento Bio-Luminiscente Sincronico': {'tecnica': 'Congelamento Bio-Luminiscente Sincronico',\n",
       "  'come_funziona': 'Utilizza bioluminescenza naturale in combinazione con impulsi freddi, generando una matrice congelante uniforme che avvolge ogni elemento alimentare in un abbraccio brillante e scintillante.',\n",
       "  'vantaggi': 'Offre un surgelamento visivamente affascinante che mantiene intatti colore e gusto, senza ricorrere a sostanze chimiche artificiali.',\n",
       "  'svantaggi': 'Lʼimplementazione efficiente di questa tecnica richiede condizioni ambientali specifiche per evitare dispersioni luminose inefficaci.'},\n",
       " 'Cristallizzazione Temporale Reversiva': {'tecnica': 'Cristallizzazione Temporale Reversiva',\n",
       "  'come_funziona': 'Proietta gli alimenti attraverso un campo di distorsione temporale controllata, bloccando istanti di tempo nel ghiaccio senza alterare la realtà circostante.',\n",
       "  'vantaggi': 'Offre un congelamento ritardato inverso che preserva i nutrienti intatti come se il tempo non fosse passato, ideale per piatti preparati con anticipo.',\n",
       "  'svantaggi': 'Deve monitorare attentamente i flussi temporali per evitare paradossi o collisioni temporali indesiderate.'},\n",
       " 'Congelazione Iperdimensionalmente Stratificata': {'tecnica': 'Congelazione Iperdimensionalmente Stratificata',\n",
       "  'come_funziona': 'colloca gli alimenti in compartimenti multidimensionali dove ogni strato di consistenza viene congelato separatamente da flussi termodinamici indipendenti.',\n",
       "  'vantaggi': 'permette una preservazione concentrica specifica che massimizza gli elementi gustativi dei cibi strutturati come mousse o dessert stratificati.',\n",
       "  'svantaggi': 'esige l’uso di complessi algoritmi spatial-metric per garantire l’equilibrio dimensionale necessario.'},\n",
       " 'Surgelamento Antimaterico a Risonanza Inversa': {'tecnica': 'Surgelamento Antimaterico a Risonanza Inversa',\n",
       "  'come_funziona': 'utilizza fluttuazioni controllate di antimateria per instaurare uno stato di superposizione risonante che neutralizza energia termica a livello quantistico.',\n",
       "  'vantaggi': 'conserva le qualità organolettiche al di là delle possibilità dei metodi tradizionali; applicabile a delikatessen ultra-fini e prelibatezze delicate oltre confini spaziali ordinari.',\n",
       "  'svantaggi': \"manipolazioni sul filo dell'antimateria richiedono precauzioni estreme per evitare disintegrazioni o cataclismi subatomici imprevedibili.\"}}"
      ]
     },
     "execution_count": 125,
     "metadata": {},
     "output_type": "execute_result"
    }
   ],
   "source": [
    "dettagli_per_grafo"
   ]
  },
  {
   "cell_type": "code",
   "execution_count": 120,
   "metadata": {},
   "outputs": [],
   "source": [
    "# neo4j first instance parameters\n",
    "NEO4J_URI= \"neo4j+s://0482640f.databases.neo4j.io\"\n",
    "NEO4J_USERNAME= \"neo4j\"\n",
    "NEO4J_PASSWORD= \"PNvdaZlk326-ja2hRD1K97ZUUMnD4mj0NsecZNu5-9k\"\n",
    "AURA_INSTANCEID= \"0482640f\"\n",
    "AURA_INSTANCENAME= \"Instance01\""
   ]
  },
  {
   "cell_type": "code",
   "execution_count": 121,
   "metadata": {},
   "outputs": [],
   "source": [
    "driver = GraphDatabase.driver(NEO4J_URI, auth=(NEO4J_USERNAME, NEO4J_PASSWORD))"
   ]
  },
  {
   "cell_type": "code",
   "execution_count": null,
   "metadata": {},
   "outputs": [
    {
     "name": "stderr",
     "output_type": "stream",
     "text": [
      "C:\\Users\\lparigi\\AppData\\Local\\Temp\\ipykernel_2084\\3421409616.py:7: DeprecationWarning: write_transaction has been renamed to execute_write\n",
      "  session.write_transaction(pulisci_database)\n"
     ]
    },
    {
     "name": "stdout",
     "output_type": "stream",
     "text": [
      "Database pulito con successo!\n"
     ]
    }
   ],
   "source": [
    "# Funzione per pulire il database\n",
    "def pulisci_database(tx):\n",
    "    tx.run(\"MATCH (n) DETACH DELETE n\")\n",
    "\n",
    "# Pulizia del database\n",
    "with driver.session() as session:\n",
    "    session.execute_write(pulisci_database)\n",
    "\n",
    "print(\"Database pulito con successo!\")"
   ]
  },
  {
   "cell_type": "code",
   "execution_count": null,
   "metadata": {},
   "outputs": [
    {
     "name": "stderr",
     "output_type": "stream",
     "text": [
      "C:\\Users\\lparigi\\AppData\\Local\\Temp\\ipykernel_2084\\392791697.py:11: DeprecationWarning: write_transaction has been renamed to execute_write\n",
      "  session.write_transaction(aggiungi_macrotecniche, macro, descrizione)\n"
     ]
    },
    {
     "name": "stdout",
     "output_type": "stream",
     "text": [
      "Macrotecniche aggiunte con successo!\n"
     ]
    }
   ],
   "source": [
    "def aggiungi_macrotecniche(tx, nome, descrizione):\n",
    "    query = \"\"\"\n",
    "    MERGE (m:Macrotecnica {nome: $nome})\n",
    "    SET m.descrizione = $descrizione\n",
    "    \"\"\"\n",
    "    tx.run(query, nome=nome, descrizione=descrizione)\n",
    "\n",
    "# Inserimento dati nel database\n",
    "with driver.session() as session:\n",
    "    for macro, descrizione in macrotecniche.items():\n",
    "        session.execute_write(aggiungi_macrotecniche, macro, descrizione)\n",
    "\n",
    "print(\"Macrotecniche aggiunte con successo!\")"
   ]
  },
  {
   "cell_type": "code",
   "execution_count": 126,
   "metadata": {},
   "outputs": [
    {
     "name": "stdout",
     "output_type": "stream",
     "text": [
      "Tecniche aggiunte con successo!\n"
     ]
    }
   ],
   "source": [
    "# Funzione per aggiungere le tecniche\n",
    "def aggiungi_tecniche(tx, nome, come_funziona, vantaggi, svantaggi):\n",
    "    query = \"\"\"\n",
    "    MERGE (t:Tecnica {nome: $nome})\n",
    "    SET t.come_funziona = $come_funziona,\n",
    "        t.vantaggi = $vantaggi,\n",
    "        t.svantaggi = $svantaggi\n",
    "    \"\"\"\n",
    "    tx.run(query, nome=nome, come_funziona=come_funziona, vantaggi=vantaggi, svantaggi=svantaggi)\n",
    "\n",
    "# Inserire le tecniche nel database\n",
    "with driver.session() as session:\n",
    "    for nome, dettagli in dettagli_per_grafo.items():\n",
    "        session.execute_write(\n",
    "            aggiungi_tecniche, nome, dettagli[\"come_funziona\"], dettagli[\"vantaggi\"], dettagli[\"svantaggi\"]\n",
    "        )\n",
    "\n",
    "print(\"Tecniche aggiunte con successo!\")"
   ]
  },
  {
   "cell_type": "code",
   "execution_count": 118,
   "metadata": {},
   "outputs": [],
   "source": [
    "# Poi crea il knowledge graph\n",
    "graph_creator = KnowledgeGraphCreator(\n",
    "    uri=NEO4J_URI,\n",
    "    username=NEO4J_USERNAME,\n",
    "    password=NEO4J_PASSWORD\n",
    ")\n",
    "\n",
    "# Pulisci il database (opzionale)\n",
    "graph_creator.clear_database()"
   ]
  },
  {
   "cell_type": "code",
   "execution_count": 119,
   "metadata": {},
   "outputs": [
    {
     "ename": "AttributeError",
     "evalue": "'str' object has no attribute 'nome'",
     "output_type": "error",
     "traceback": [
      "\u001b[1;31m---------------------------------------------------------------------------\u001b[0m",
      "\u001b[1;31mAttributeError\u001b[0m                            Traceback (most recent call last)",
      "Cell \u001b[1;32mIn[119], line 2\u001b[0m\n\u001b[0;32m      1\u001b[0m \u001b[38;5;66;03m# Crea il grafo\u001b[39;00m\n\u001b[1;32m----> 2\u001b[0m \u001b[43mgraph_creator\u001b[49m\u001b[38;5;241;43m.\u001b[39;49m\u001b[43mcreate_knowledge_graph\u001b[49m\u001b[43m(\u001b[49m\u001b[43mdettagli_per_grafo\u001b[49m\u001b[43m)\u001b[49m\n",
      "Cell \u001b[1;32mIn[58], line 41\u001b[0m, in \u001b[0;36mKnowledgeGraphCreator.create_knowledge_graph\u001b[1;34m(self, tecniche)\u001b[0m\n\u001b[0;32m     33\u001b[0m \u001b[38;5;28;01mwith\u001b[39;00m \u001b[38;5;28mself\u001b[39m\u001b[38;5;241m.\u001b[39mdriver\u001b[38;5;241m.\u001b[39msession() \u001b[38;5;28;01mas\u001b[39;00m session:\n\u001b[0;32m     34\u001b[0m     \u001b[38;5;28;01mfor\u001b[39;00m tecnica \u001b[38;5;129;01min\u001b[39;00m tecniche:\n\u001b[0;32m     35\u001b[0m         \u001b[38;5;66;03m# Crea il nodo della tecnica\u001b[39;00m\n\u001b[0;32m     36\u001b[0m         session\u001b[38;5;241m.\u001b[39mrun(\u001b[38;5;124m\"\"\"\u001b[39m\n\u001b[0;32m     37\u001b[0m \u001b[38;5;124m            CREATE (t:Tecnica \u001b[39m\u001b[38;5;124m{\u001b[39m\n\u001b[0;32m     38\u001b[0m \u001b[38;5;124m                nome: $nome,\u001b[39m\n\u001b[0;32m     39\u001b[0m \u001b[38;5;124m                come_funziona: $come_funziona\u001b[39m\n\u001b[0;32m     40\u001b[0m \u001b[38;5;124m            })\u001b[39m\n\u001b[1;32m---> 41\u001b[0m \u001b[38;5;124m        \u001b[39m\u001b[38;5;124m\"\"\"\u001b[39m, nome\u001b[38;5;241m=\u001b[39m\u001b[43mtecnica\u001b[49m\u001b[38;5;241;43m.\u001b[39;49m\u001b[43mnome\u001b[49m, come_funziona\u001b[38;5;241m=\u001b[39mtecnica\u001b[38;5;241m.\u001b[39mcome_funziona)\n\u001b[0;32m     43\u001b[0m         \u001b[38;5;66;03m# Crea i nodi dei vantaggi e le relazioni\u001b[39;00m\n\u001b[0;32m     44\u001b[0m         \u001b[38;5;28;01mfor\u001b[39;00m vantaggio \u001b[38;5;129;01min\u001b[39;00m tecnica\u001b[38;5;241m.\u001b[39mvantaggi:\n",
      "\u001b[1;31mAttributeError\u001b[0m: 'str' object has no attribute 'nome'"
     ]
    }
   ],
   "source": [
    "# Crea il grafo\n",
    "graph_creator.create_knowledge_graph(dettagli_per_grafo)"
   ]
  },
  {
   "cell_type": "code",
   "execution_count": null,
   "metadata": {},
   "outputs": [
    {
     "name": "stderr",
     "output_type": "stream",
     "text": [
      "Received notification from DBMS server: {severity: WARNING} {code: Neo.ClientNotification.Statement.UnknownRelationshipTypeWarning} {category: UNRECOGNIZED} {title: The provided relationship type is not in the database.} {description: One of the relationship types in your query is not available in the database, make sure you didn't misspell it or that the label is available when you run this statement in your application (the missing relationship type is: CONDIVIDE_VANTAGGI)} {position: line: 3, column: 40, offset: 88} for query: \"\\n                MATCH (t:Tecnica {nome: $nome})\\n                OPTIONAL MATCH (t)-[rv:CONDIVIDE_VANTAGGI]->(tv:Tecnica)\\n                OPTIONAL MATCH (t)-[rs:CONDIVIDE_SVANTAGGI]->(ts:Tecnica)\\n                RETURN \\n                    collect(DISTINCT {nome: tv.nome, tipo: 'vantaggi', count: rv.count}) as per_vantaggi,\\n                    collect(DISTINCT {nome: ts.nome, tipo: 'svantaggi', count: rs.count}) as per_svantaggi\\n            \"\n",
      "Received notification from DBMS server: {severity: WARNING} {code: Neo.ClientNotification.Statement.UnknownRelationshipTypeWarning} {category: UNRECOGNIZED} {title: The provided relationship type is not in the database.} {description: One of the relationship types in your query is not available in the database, make sure you didn't misspell it or that the label is available when you run this statement in your application (the missing relationship type is: CONDIVIDE_SVANTAGGI)} {position: line: 4, column: 40, offset: 161} for query: \"\\n                MATCH (t:Tecnica {nome: $nome})\\n                OPTIONAL MATCH (t)-[rv:CONDIVIDE_VANTAGGI]->(tv:Tecnica)\\n                OPTIONAL MATCH (t)-[rs:CONDIVIDE_SVANTAGGI]->(ts:Tecnica)\\n                RETURN \\n                    collect(DISTINCT {nome: tv.nome, tipo: 'vantaggi', count: rv.count}) as per_vantaggi,\\n                    collect(DISTINCT {nome: ts.nome, tipo: 'svantaggi', count: rs.count}) as per_svantaggi\\n            \"\n",
      "Received notification from DBMS server: {severity: WARNING} {code: Neo.ClientNotification.Statement.UnknownPropertyKeyWarning} {category: UNRECOGNIZED} {title: The provided property key is not in the database} {description: One of the property names in your query is not available in the database, make sure you didn't misspell it or that the label is available when you run this statement in your application (the missing property name is: count)} {position: line: 6, column: 82, offset: 301} for query: \"\\n                MATCH (t:Tecnica {nome: $nome})\\n                OPTIONAL MATCH (t)-[rv:CONDIVIDE_VANTAGGI]->(tv:Tecnica)\\n                OPTIONAL MATCH (t)-[rs:CONDIVIDE_SVANTAGGI]->(ts:Tecnica)\\n                RETURN \\n                    collect(DISTINCT {nome: tv.nome, tipo: 'vantaggi', count: rv.count}) as per_vantaggi,\\n                    collect(DISTINCT {nome: ts.nome, tipo: 'svantaggi', count: rs.count}) as per_svantaggi\\n            \"\n",
      "Received notification from DBMS server: {severity: WARNING} {code: Neo.ClientNotification.Statement.UnknownPropertyKeyWarning} {category: UNRECOGNIZED} {title: The provided property key is not in the database} {description: One of the property names in your query is not available in the database, make sure you didn't misspell it or that the label is available when you run this statement in your application (the missing property name is: count)} {position: line: 7, column: 83, offset: 408} for query: \"\\n                MATCH (t:Tecnica {nome: $nome})\\n                OPTIONAL MATCH (t)-[rv:CONDIVIDE_VANTAGGI]->(tv:Tecnica)\\n                OPTIONAL MATCH (t)-[rs:CONDIVIDE_SVANTAGGI]->(ts:Tecnica)\\n                RETURN \\n                    collect(DISTINCT {nome: tv.nome, tipo: 'vantaggi', count: rv.count}) as per_vantaggi,\\n                    collect(DISTINCT {nome: ts.nome, tipo: 'svantaggi', count: rs.count}) as per_svantaggi\\n            \"\n"
     ]
    },
    {
     "name": "stdout",
     "output_type": "stream",
     "text": [
      "Tecniche correlate: {'relazioni_per_vantaggi': [], 'relazioni_per_svantaggi': []}\n"
     ]
    },
    {
     "ename": "AttributeError",
     "evalue": "'NoneType' object has no attribute 'data'",
     "output_type": "error",
     "traceback": [
      "\u001b[1;31m---------------------------------------------------------------------------\u001b[0m",
      "\u001b[1;31mAttributeError\u001b[0m                            Traceback (most recent call last)",
      "Cell \u001b[1;32mIn[64], line 22\u001b[0m\n\u001b[0;32m     19\u001b[0m \u001b[38;5;28mprint\u001b[39m(\u001b[38;5;124m\"\u001b[39m\u001b[38;5;124mTecniche correlate:\u001b[39m\u001b[38;5;124m\"\u001b[39m, related)\n\u001b[0;32m     21\u001b[0m \u001b[38;5;66;03m# Ottieni un riepilogo di una tecnica\u001b[39;00m\n\u001b[1;32m---> 22\u001b[0m summary \u001b[38;5;241m=\u001b[39m \u001b[43mgraph_creator\u001b[49m\u001b[38;5;241;43m.\u001b[39;49m\u001b[43mget_technique_summary\u001b[49m\u001b[43m(\u001b[49m\u001b[38;5;124;43m\"\u001b[39;49m\u001b[38;5;124;43mMarinatura\u001b[39;49m\u001b[38;5;124;43m\"\u001b[39;49m\u001b[43m)\u001b[49m\n\u001b[0;32m     23\u001b[0m \u001b[38;5;28mprint\u001b[39m(\u001b[38;5;124m\"\u001b[39m\u001b[38;5;124mRiepilogo tecnica:\u001b[39m\u001b[38;5;124m\"\u001b[39m, summary)\n",
      "Cell \u001b[1;32mIn[58], line 130\u001b[0m, in \u001b[0;36mKnowledgeGraphCreator.get_technique_summary\u001b[1;34m(self, tecnica_nome)\u001b[0m\n\u001b[0;32m    118\u001b[0m \u001b[38;5;28;01mwith\u001b[39;00m \u001b[38;5;28mself\u001b[39m\u001b[38;5;241m.\u001b[39mdriver\u001b[38;5;241m.\u001b[39msession() \u001b[38;5;28;01mas\u001b[39;00m session:\n\u001b[0;32m    119\u001b[0m     result \u001b[38;5;241m=\u001b[39m session\u001b[38;5;241m.\u001b[39mrun(\u001b[38;5;124m\"\"\"\u001b[39m\n\u001b[0;32m    120\u001b[0m \u001b[38;5;124m        MATCH (t:Tecnica \u001b[39m\u001b[38;5;124m{\u001b[39m\u001b[38;5;124mnome: $nome})\u001b[39m\n\u001b[0;32m    121\u001b[0m \u001b[38;5;124m        OPTIONAL MATCH (t)-[:HA_VANTAGGIO]->(v)\u001b[39m\n\u001b[1;32m   (...)\u001b[0m\n\u001b[0;32m    127\u001b[0m \u001b[38;5;124m            collect(DISTINCT s.descrizione) as svantaggi\u001b[39m\n\u001b[0;32m    128\u001b[0m \u001b[38;5;124m    \u001b[39m\u001b[38;5;124m\"\"\"\u001b[39m, nome\u001b[38;5;241m=\u001b[39mtecnica_nome)\n\u001b[1;32m--> 130\u001b[0m     \u001b[38;5;28;01mreturn\u001b[39;00m \u001b[43mresult\u001b[49m\u001b[38;5;241;43m.\u001b[39;49m\u001b[43msingle\u001b[49m\u001b[43m(\u001b[49m\u001b[43m)\u001b[49m\u001b[38;5;241;43m.\u001b[39;49m\u001b[43mdata\u001b[49m()\n",
      "\u001b[1;31mAttributeError\u001b[0m: 'NoneType' object has no attribute 'data'"
     ]
    }
   ],
   "source": [
    "# Crea le relazioni tra tecniche\n",
    "graph_creator.create_technique_relationships()\n",
    "\n",
    "# Esempio di query: trova tecniche correlate\n",
    "related = graph_creator.get_related_techniques(\"Marinatura\")\n",
    "print(\"Tecniche correlate:\", related)\n",
    "\n",
    "# Ottieni un riepilogo di una tecnica\n",
    "summary = graph_creator.get_technique_summary(\"Marinatura\")\n",
    "print(\"Riepilogo tecnica:\", summary)"
   ]
  }
 ],
 "metadata": {
  "kernelspec": {
   "display_name": "Python 3",
   "language": "python",
   "name": "python3"
  },
  "language_info": {
   "codemirror_mode": {
    "name": "ipython",
    "version": 3
   },
   "file_extension": ".py",
   "mimetype": "text/x-python",
   "name": "python",
   "nbconvert_exporter": "python",
   "pygments_lexer": "ipython3",
   "version": "3.12.3"
  }
 },
 "nbformat": 4,
 "nbformat_minor": 2
}
