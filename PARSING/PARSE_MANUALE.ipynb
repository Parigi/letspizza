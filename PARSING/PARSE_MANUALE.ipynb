{
 "cells": [
  {
   "cell_type": "code",
   "execution_count": 8,
   "metadata": {},
   "outputs": [],
   "source": [
    "import pdfplumber\n",
    "import re\n",
    "import json\n",
    "import os\n",
    "import PyPDF2\n",
    "\n",
    "\n",
    "from dotenv import load_dotenv\n",
    "from neo4j import GraphDatabase\n",
    "from py2neo import Graph, Node, Relationship\n",
    "from langchain_openai import AzureChatOpenAI\n",
    "from langchain_core.prompts import ChatPromptTemplate\n",
    "from langchain.text_splitter import RecursiveCharacterTextSplitter\n",
    "from typing import List, Dict, Tuple"
   ]
  },
  {
   "cell_type": "markdown",
   "metadata": {},
   "source": [
    "## METODI"
   ]
  },
  {
   "cell_type": "code",
   "execution_count": 2,
   "metadata": {},
   "outputs": [],
   "source": [
    "file_path = \"../Hackapizza Dataset/Misc/Manuale di Cucina.pdf\"\n",
    "\n",
    "load_dotenv()\n",
    "# Recupera endpoint e chiave dalle variabili d'ambiente\n",
    "api_base = os.getenv(\"AZURE_OPENAI_API_BASE\")\n",
    "api_key = os.getenv(\"AZURE_OPENAI_API_KEY\")\n",
    "\n",
    "# neo4j first instance parameters\n",
    "NEO4J_URI= \"neo4j+s://0482640f.databases.neo4j.io\"\n",
    "NEO4J_USERNAME= \"neo4j\"\n",
    "NEO4J_PASSWORD= \"PNvdaZlk326-ja2hRD1K97ZUUMnD4mj0NsecZNu5-9k\"\n",
    "AURA_INSTANCEID= \"0482640f\"\n",
    "AURA_INSTANCENAME= \"Instance01\"\n",
    "\n",
    "driver = GraphDatabase.driver(NEO4J_URI, auth=(NEO4J_USERNAME, NEO4J_PASSWORD))"
   ]
  },
  {
   "cell_type": "code",
   "execution_count": 3,
   "metadata": {},
   "outputs": [],
   "source": [
    "# una semplice estrazione dei capitoli dal pdf\n",
    "def extract_chapters_from_pdf(file_path):\n",
    "    text = \"\"\n",
    "    with pdfplumber.open(file_path) as pdf:\n",
    "        for page in pdf.pages:\n",
    "            text += page.extract_text() + \"\\n\"\n",
    "\n",
    "    # Suddividiamo il testo nei capitoli basandoci su \"CAPITOLO X\"\n",
    "    chapters = re.split(r'(Capitolo \\d+)', text)\n",
    "    \n",
    "    structured_data = {}\n",
    "    for i in range(1, len(chapters), 2):\n",
    "        chapter_title = chapters[i].strip()\n",
    "        chapter_content = chapters[i + 1].strip()\n",
    "        structured_data[chapter_title] = chapter_content\n",
    "    \n",
    "    return structured_data"
   ]
  },
  {
   "cell_type": "code",
   "execution_count": 4,
   "metadata": {},
   "outputs": [],
   "source": [
    "def crea_llm(api_key: str, api_base: str) -> AzureChatOpenAI:\n",
    "    \"\"\"\n",
    "    Crea un'istanza del modello linguistico Azure OpenAI.\n",
    "    \n",
    "    Args:\n",
    "        api_key (str): La chiave API di Azure\n",
    "        api_base (str): L'URL base dell'API Azure\n",
    "        \n",
    "    Returns:\n",
    "        AzureChatOpenAI: Istanza configurata del modello\n",
    "    \"\"\"\n",
    "    return AzureChatOpenAI(\n",
    "        openai_api_version=\"2024-08-01-preview\",\n",
    "        azure_deployment=\"o1-mini\",\n",
    "        azure_endpoint=api_base,\n",
    "        api_key=api_key,\n",
    "        temperature=1\n",
    "    )\n"
   ]
  },
  {
   "cell_type": "code",
   "execution_count": 133,
   "metadata": {},
   "outputs": [],
   "source": [
    "def estrai_tecniche_e_macro(llm: AzureChatOpenAI, testo: str) -> tuple[dict, List[str]]:\n",
    "    \"\"\"\n",
    "    Estrae le macrotecniche con descrizioni e le tecniche specifiche dal testo.\n",
    "    \n",
    "    Args:\n",
    "        llm (AzureChatOpenAI): Istanza del modello linguistico\n",
    "        testo (str): Il testo da analizzare\n",
    "        \n",
    "    Returns:\n",
    "        tuple[dict, List[str]]: \n",
    "            - Dizionario delle macrotecniche con le loro descrizioni\n",
    "            - Lista delle tecniche specifiche\n",
    "    \"\"\"\n",
    "    # Prima estrazione: macrotecniche con descrizioni\n",
    "    prompt_macro = \"\"\"\n",
    "    Analizza il seguente testo e identifica le macrotecniche culinarie.\n",
    "    Restituisci un oggetto JSON con il nome della macrotecnica come chiave e la sua descrizione come valore.\n",
    "    Restituisci SOLO il JSON, senza formattazione markdown o decoratori.\n",
    "    \n",
    "    Testo:\n",
    "    {}\n",
    "    \"\"\".format(testo)\n",
    "    \n",
    "    response_macro = llm.invoke(prompt_macro)\n",
    "    content_macro = response_macro.content.strip()\n",
    "    \n",
    "    # Pulizia del JSON delle macrotecniche\n",
    "    if content_macro.startswith('```') and content_macro.endswith('```'):\n",
    "        content_macro = '\\n'.join(content_macro.split('\\n')[1:-1])\n",
    "    if content_macro.startswith('json'):\n",
    "        content_macro = content_macro[4:].strip()\n",
    "    \n",
    "    try:\n",
    "        macrotecniche = json.loads(content_macro)\n",
    "    except json.JSONDecodeError:\n",
    "        print(\"Errore nel parsing JSON delle macrotecniche:\", content_macro)\n",
    "        macrotecniche = {}\n",
    "    \n",
    "    # Seconda estrazione: tecniche specifiche\n",
    "    prompt_tecniche = \"\"\"\n",
    "    Analizza il seguente testo e elenca SOLO le tecniche specifiche di preparazione (non le macrotecniche).\n",
    "    Elenca solo i nomi delle tecniche, una per riga, senza punteggiatura o numerazione.\n",
    "    Non aggiungere spiegazioni o altro testo.\n",
    "    \n",
    "    Testo:\n",
    "    {}\n",
    "    \"\"\".format(testo)\n",
    "    \n",
    "    response_tecniche = llm.invoke(prompt_tecniche)\n",
    "    \n",
    "    # Elaborazione delle tecniche specifiche\n",
    "    tecniche = [\n",
    "        riga.strip() \n",
    "        for riga in response_tecniche.content.split('\\n') \n",
    "        if riga.strip() and not riga.startswith('-') and not riga[0].isdigit()\n",
    "    ]\n",
    "    \n",
    "    # Rimuovi duplicati mantenendo l'ordine\n",
    "    tecniche = list(dict.fromkeys(tecniche))\n",
    "    \n",
    "    return macrotecniche, tecniche"
   ]
  },
  {
   "cell_type": "code",
   "execution_count": null,
   "metadata": {},
   "outputs": [],
   "source": [
    "def estrai_dettagli_tecniche_per_grafo(llm: AzureChatOpenAI, testo: str, tecniche: List[str]) -> dict:\n",
    "    \"\"\"\n",
    "    Estrae informazioni strutturate per ogni tecnica dal testo, ottimizzate per GraphRAG.\n",
    "    \n",
    "    Args:\n",
    "        llm (AzureChatOpenAI): Istanza del modello linguistico\n",
    "        testo (str): Il testo originale da analizzare\n",
    "        tecniche (List[str]): Lista delle tecniche trovate\n",
    "        \n",
    "    Returns:\n",
    "        dict: Dizionario strutturato per costruzione del grafo\n",
    "    \"\"\"\n",
    "    prompt_template = \"\"\"\n",
    "    Analizza la tecnica culinaria \"{tecnica}\" nel seguente testo e restituisci le informazioni in questo formato JSON strutturato:\n",
    "    {{\n",
    "        \"tecnica\": \"nome della tecnica\",\n",
    "        \"come_funziona\": \"breve descrizione del funzionamento della tecnica\",\n",
    "        \"vantaggi\": \"vantaggi della tecnica\",\n",
    "        \"svantaggi\": \"svantaggi della tecnica\"\n",
    "    }}\n",
    "    Restituisci SOLO il JSON, senza formattazione markdown o altri decoratori.\n",
    "    \n",
    "    Testo da analizzare:\n",
    "    {testo}\n",
    "    \"\"\"\n",
    "    \n",
    "    dettagli_grafo = {}\n",
    "    \n",
    "    for tecnica in tecniche:\n",
    "        prompt = prompt_template.format(tecnica=tecnica, testo=testo)\n",
    "        response = llm.invoke(prompt)\n",
    "        \n",
    "        try:\n",
    "            # Assumendo che la risposta sia in formato JSON valido\n",
    "            import json\n",
    "            dettagli_grafo[tecnica] = json.loads(response.content)\n",
    "        except json.JSONDecodeError:\n",
    "            # Fallback se il JSON non è valido\n",
    "            dettagli_grafo[tecnica] = {\"error\": \"Formato non valido\", \"raw_content\": response.content}\n",
    "    \n",
    "    return dettagli_grafo"
   ]
  },
  {
   "cell_type": "code",
   "execution_count": 10,
   "metadata": {},
   "outputs": [],
   "source": [
    "def estrai_ordini(llm: AzureChatOpenAI, testo: str) -> Dict[str, str]:\n",
    "    \"\"\"\n",
    "    Estrae gli ordini dal testo e li restituisce come dizionario JSON.\n",
    "    \n",
    "    Args:\n",
    "        llm (AzureChatOpenAI): Istanza del modello linguistico\n",
    "        testo (str): Il testo da analizzare\n",
    "        \n",
    "    Returns:\n",
    "        Dict[str, str]: Dizionario con nome dell'ordine come chiave e descrizione come valore\n",
    "    \"\"\"\n",
    "    prompt = \"\"\"\n",
    "    Analizza il seguente testo e identifica gli Ordini presenti.\n",
    "    Restituisci un oggetto JSON dove la chiave è il nome dell'Ordine e il valore è la sua descrizione.\n",
    "    Restituisci SOLO il JSON, senza formattazione markdown o decoratori.\n",
    "    \n",
    "    Testo:\n",
    "    {}\n",
    "    \"\"\".format(testo)\n",
    "    \n",
    "    response = llm.invoke(prompt)\n",
    "    content = response.content.strip()\n",
    "    \n",
    "    # Pulizia del JSON\n",
    "    if content.startswith('```') and content.endswith('```'):\n",
    "        content = '\\n'.join(content.split('\\n')[1:-1])\n",
    "    if content.startswith('json'):\n",
    "        content = content[4:].strip()\n",
    "    \n",
    "    try:\n",
    "        ordini = json.loads(content)\n",
    "    except json.JSONDecodeError:\n",
    "        print(\"Errore nel parsing JSON degli Ordini:\", content)\n",
    "        ordini = {}\n",
    "    \n",
    "    return ordini"
   ]
  },
  {
   "cell_type": "code",
   "execution_count": 15,
   "metadata": {},
   "outputs": [],
   "source": [
    "def estrai_licenze(llm: AzureChatOpenAI, testo: str) -> Dict[str, str]:\n",
    "    \"\"\"\n",
    "    Estrae le licenze dal testo, combinando categoria e livello nel nome.\n",
    "    \n",
    "    Args:\n",
    "        llm (AzureChatOpenAI): Istanza del modello linguistico\n",
    "        testo (str): Il testo da analizzare\n",
    "        \n",
    "    Returns:\n",
    "        Dict[str, str]: Dizionario con nome della licenza (categoria + livello) come chiave \n",
    "                       e descrizione come valore\n",
    "    \"\"\"\n",
    "    prompt = \"\"\"\n",
    "    Analizza il seguente testo e identifica tutte le licenze presenti.\n",
    "    Per ogni categoria di abilità (es. Psionica, Temporale), estrai tutti i livelli disponibili.\n",
    "    \n",
    "    Restituisci un oggetto JSON dove:\n",
    "    - La chiave è nel formato \"NomeCategoria livello X\" (es. \"Psionica livello 0\")\n",
    "    - Il valore è la descrizione completa di quella licenza specifica\n",
    "    \n",
    "    Assicurati di:\n",
    "    - Includere tutti i livelli per ogni categoria\n",
    "    - Mantenere le descrizioni complete e pertinenti\n",
    "    - Non omettere informazioni importanti\n",
    "    \n",
    "    Restituisci SOLO il JSON, senza formattazione markdown o decoratori.\n",
    "    \n",
    "    Testo:\n",
    "    {}\n",
    "    \"\"\".format(testo)\n",
    "    \n",
    "    response = llm.invoke(prompt)\n",
    "    content = response.content.strip()\n",
    "    \n",
    "    # Pulizia del JSON\n",
    "    if content.startswith('```') and content.endswith('```'):\n",
    "        content = '\\n'.join(content.split('\\n')[1:-1])\n",
    "    if content.startswith('json'):\n",
    "        content = content[4:].strip()\n",
    "    \n",
    "    try:\n",
    "        licenze = json.loads(content)\n",
    "    except json.JSONDecodeError:\n",
    "        print(\"Errore nel parsing JSON delle licenze:\", content)\n",
    "        licenze = {}\n",
    "    \n",
    "    return licenze"
   ]
  },
  {
   "cell_type": "code",
   "execution_count": 18,
   "metadata": {},
   "outputs": [],
   "source": [
    "# Funzione per pulire il database\n",
    "def pulisci_database(tx):\n",
    "    tx.run(\"MATCH (n) DETACH DELETE n\")\n",
    "\n",
    "\n",
    "def aggiungi_macrotecniche(tx, nome, descrizione):\n",
    "    query = \"\"\"\n",
    "    MERGE (m:Macrotecnica {nome: $nome})\n",
    "    SET m.descrizione = $descrizione\n",
    "    \"\"\"\n",
    "    tx.run(query, nome=nome, descrizione=descrizione)\n",
    "\n",
    "# Funzione per aggiungere le tecniche\n",
    "def aggiungi_tecniche(tx, nome, come_funziona, vantaggi, svantaggi):\n",
    "    query = \"\"\"\n",
    "    MERGE (t:Tecnica {nome: $nome})\n",
    "    SET t.come_funziona = $come_funziona,\n",
    "        t.vantaggi = $vantaggi,\n",
    "        t.svantaggi = $svantaggi\n",
    "    \"\"\"\n",
    "    tx.run(query, nome=nome, come_funziona=come_funziona, vantaggi=vantaggi, svantaggi=svantaggi)\n",
    "\n",
    "def aggiungi_ordine(tx, nome: str, descrizione: str):\n",
    "    \"\"\"\n",
    "    Aggiunge un ordine al database Neo4j.\n",
    "    \n",
    "    Args:\n",
    "        tx: Transazione Neo4j\n",
    "        nome (str): Nome dell'ordine\n",
    "        descrizione (str): Descrizione dell'ordine\n",
    "    \"\"\"\n",
    "    query = \"\"\"\n",
    "    MERGE (o:Ordine {nome: $nome})\n",
    "    SET o.descrizione = $descrizione\n",
    "    \"\"\"\n",
    "    tx.run(query, nome=nome, descrizione=descrizione)\n",
    "\n",
    "def aggiungi_licenza(tx, nome: str, descrizione: str):\n",
    "    \"\"\"\n",
    "    Aggiunge una licenza al database Neo4j.\n",
    "    \n",
    "    Args:\n",
    "        tx: Transazione Neo4j\n",
    "        nome (str): Nome della licenza (categoria + livello)\n",
    "        descrizione (str): Descrizione della licenza\n",
    "    \"\"\"\n",
    "    query = \"\"\"\n",
    "    MERGE (l:Licenza {nome: $nome})\n",
    "    SET l.descrizione = $descrizione\n",
    "    \"\"\"\n",
    "    tx.run(query, nome=nome, descrizione=descrizione)"
   ]
  },
  {
   "cell_type": "markdown",
   "metadata": {},
   "source": [
    "## MAIN"
   ]
  },
  {
   "cell_type": "code",
   "execution_count": 6,
   "metadata": {},
   "outputs": [],
   "source": [
    "# Utilizzo:\n",
    "llm = crea_llm(api_key, api_base)\n",
    "\n",
    "# Leggiamo il PDF e estraiamo i capitoli\n",
    "pdf_chapters = extract_chapters_from_pdf(file_path)\n",
    "capitolo_1 = pdf_chapters[\"Capitolo 1\"]\n",
    "capitolo_2 = pdf_chapters[\"Capitolo 2\"]"
   ]
  },
  {
   "cell_type": "markdown",
   "metadata": {},
   "source": [
    "### CAPITOLO 1 "
   ]
  },
  {
   "cell_type": "code",
   "execution_count": 16,
   "metadata": {},
   "outputs": [],
   "source": [
    "licenze = estrai_licenze(llm, capitolo_1)"
   ]
  },
  {
   "cell_type": "code",
   "execution_count": 17,
   "metadata": {},
   "outputs": [
    {
     "name": "stdout",
     "output_type": "stream",
     "text": [
      "{'Psionica livello 0': 'Posseduta da tutti se non diversamente specificato. Tipica degli esseri senzienti.', 'Psionica livello I': 'lettura pensiero, telecinesi e teletrasporto di oggetti di massa inferiore a 5 kg, precognizione e visione del passato fino a 5 minuti', 'Psionica livello II': 'manipolazione della probabilità, telecinesi e teletrasporto di oggetti di massa inferiore a 20 kg, manipolazione delle forze fondamentali dell’universo', 'Psionica livello III': 'capacità di donare la coscienza e l’intelletto ad oggetti, manipolazione della realtà circoscritta a stanze, teletrasporto senza errore in qualsiasi dimensione temporale, comunione con entità di altri piani', 'Psionica livello IV': 'proiezione astrale, riscrittura di realtà circoscritta a piccole nazioni o asteroidi', 'Psionica livello V': 'riscrittura di realtà di intere linee temporali o galassie. Questo livello è equivalente al Grado di influenza di livello tecnologico III (LTK III)', 'Temporale livello I': 'effetti temporali relativi al presente come dilatazione o accelerazione del tempo', 'Temporale livello II': 'Livello I + effetti temporali che riguardano linee temporali future', 'Temporale livello III': 'Livello II + effetti temporali che riguardano linee temporali passate', 'Gravitazionale livello 0': '5 < G ≤ 10, posseduta da tutti se non diversamente specificato', 'Gravitazionale livello I': '0 < G ≤ 100', 'Gravitazionale livello II': '0 < G ≤ 10^6', 'Gravitazionale livello III': 'G > 10^6', 'Antimateria livello 0': 'particelle, posseduta da tutti se non diversamente specificato', 'Antimateria livello I': 'antiparticelle', 'Magnetica livello 0': 'Polo nord e sud, posseduta da tutti se non diversamente specificato', 'Magnetica livello I': 'Mono-polo', 'Quantistica livello n': 'Numero di stati in superposizione dove n è il numero di stati', 'Luce livello I': 'Solo colori primari (RGB)', 'Luce livello II': 'Tutto lo spettro visibile umano', 'Luce livello III': 'Tutte le frequenze', 'Livello di Sviluppo Tecnologico livello I': 'Planetario', 'Livello di Sviluppo Tecnologico livello II': 'Sistema Stellare', 'Livello di Sviluppo Tecnologico livello III': 'Galassia', 'Livello di Sviluppo Tecnologico livello IV': 'Superamasso di Galassie', 'Livello di Sviluppo Tecnologico livello V': 'Intero Universo', 'Livello di Sviluppo Tecnologico livello VI': 'Universi multipli', 'Livello di Sviluppo Tecnologico livello VI+': 'Tutte le fonti energia'}\n"
     ]
    }
   ],
   "source": [
    "print(licenze)"
   ]
  },
  {
   "cell_type": "code",
   "execution_count": 19,
   "metadata": {},
   "outputs": [
    {
     "name": "stdout",
     "output_type": "stream",
     "text": [
      "Ordini aggiunti con successo!\n"
     ]
    }
   ],
   "source": [
    "# Inserimento dati nel database\n",
    "with driver.session() as session:\n",
    "    for licenza, descrizione in licenze.items():\n",
    "        session.execute_write(aggiungi_licenza, licenza, descrizione)\n",
    "\n",
    "print(\"Licenze aggiunti con successo!\")"
   ]
  },
  {
   "cell_type": "markdown",
   "metadata": {},
   "source": [
    "### CAPITOLO 2 "
   ]
  },
  {
   "cell_type": "code",
   "execution_count": 11,
   "metadata": {},
   "outputs": [],
   "source": [
    "# Estrai ordini dal testo\n",
    "ordini = estrai_ordini(llm, capitolo_2)"
   ]
  },
  {
   "cell_type": "code",
   "execution_count": 12,
   "metadata": {},
   "outputs": [
    {
     "name": "stdout",
     "output_type": "stream",
     "text": [
      "{'Ordine della Galassia di Andromeda': 'Cari pionieri del gusto cosmico, preparatevi a una sfida da veri fuoriclasse: cucinare per gli abitanti di Andromeda! Qui non parliamo solo di tecnica stellare, ma di pura diplomazia culinaria intergalattica. La particolarità? Ogni piatto devʼessere rigorosamente privo di lattosio — non un goccio, nemmeno lʼombra di una molecola originaria della Via Lattea. Se pensate che il formaggio sia lʼunica via per la felicità, è tempo di ripensare il vostro approccio. Imparerete a creare sapori complessi senza latte, burro o panna, conquistando palati alieni con alternative che sfidano le leggi della gastronomia universale.', 'Ordine dei Naturalisti': 'Per gli adepti dellʼOrdine dei Naturalisti, la cucina è molto più che creatività: è un atto di riverenza verso la natura. Qui si celebra lʼessenza primordiale di ogni ingrediente, custodendone la purezza come un prezioso segreto galattico. Nessuna trasformazione drastica, niente manipolazioni invasive: solo il “Principio di Non Alterazione”. Questo significa che se una carota vuol essere una carota, dovrà restare tale, anche quando diventa arte culinaria. La sfida? Esaltare la semplicità con maestria, senza mai tradire lʼidentità autentica del cibo.', 'Ordine degli Armonisti': 'Gli Armonisti sono più che semplici chef: sono veri maestri del flusso emozionale gastronomico. Il loro dono è trasformare il cibo in una sinfonia che risuona con lʼanima di chi lo assapora. Non si tratta solo di sapori, ma di vibrazioni sottili che si sintonizzano sullo stato dʼanimo degli ospiti. Un pranzo può calmare, ispirare o persino risvegliare ricordi dimenticati. La missione? Creare piatti che parlano al cuore, adattandosi alle frequenze emotive del momento. Perché qui, il cibo non si gusta: si vive.'}\n"
     ]
    }
   ],
   "source": [
    "print(ordini)"
   ]
  },
  {
   "cell_type": "code",
   "execution_count": 14,
   "metadata": {},
   "outputs": [
    {
     "name": "stdout",
     "output_type": "stream",
     "text": [
      "Ordini aggiunti con successo!\n"
     ]
    }
   ],
   "source": [
    "# Inserimento dati nel database\n",
    "with driver.session() as session:\n",
    "    for ordine, descrizione in ordini.items():\n",
    "        session.execute_write(aggiungi_ordine, ordine, descrizione)\n",
    "\n",
    "print(\"Ordini aggiunti con successo!\")"
   ]
  },
  {
   "cell_type": "markdown",
   "metadata": {},
   "source": [
    "### CAPITOLI 3, 4, 5"
   ]
  },
  {
   "cell_type": "code",
   "execution_count": null,
   "metadata": {},
   "outputs": [],
   "source": [
    "capitolo_3 = pdf_chapters[\"Capitolo 3\"]\n",
    "capitolo_4 = pdf_chapters[\"Capitolo 4\"]\n",
    "capitolo_5 = pdf_chapters[\"Capitolo 5\"]\n",
    "\n",
    "macrotecniche, tecniche = estrai_tecniche_e_macro(llm, capitolo_5)\n",
    "\n",
    "# Per visualizzare i risultati:\n",
    "print(\"\\nMacrotecniche:\")\n",
    "for macro, descrizione in macrotecniche.items():\n",
    "    print(f\"\\n{macro}:\")\n",
    "    print(descrizione)\n",
    "\n",
    "print(\"\\nTecniche specifiche:\")\n",
    "for tecnica in tecniche:\n",
    "    print(f\"- {tecnica}\")"
   ]
  },
  {
   "cell_type": "code",
   "execution_count": null,
   "metadata": {},
   "outputs": [],
   "source": [
    "dettagli_per_grafo = estrai_dettagli_tecniche_per_grafo(llm, capitolo_5, tecniche)\n",
    "\n",
    "# Inserimento dati nel database\n",
    "with driver.session() as session:\n",
    "    for macro, descrizione in macrotecniche.items():\n",
    "        session.execute_write(aggiungi_macrotecniche, macro, descrizione)\n",
    "\n",
    "print(\"Macrotecniche aggiunte con successo!\")\n",
    "\n",
    "# Inserire le tecniche nel database\n",
    "with driver.session() as session:\n",
    "    for nome, dettagli in dettagli_per_grafo.items():\n",
    "        session.execute_write(\n",
    "            aggiungi_tecniche, nome, dettagli[\"come_funziona\"], dettagli[\"vantaggi\"], dettagli[\"svantaggi\"]\n",
    "        )\n",
    "\n",
    "print(\"Tecniche aggiunte con successo!\")"
   ]
  }
 ],
 "metadata": {
  "kernelspec": {
   "display_name": "Python 3",
   "language": "python",
   "name": "python3"
  },
  "language_info": {
   "codemirror_mode": {
    "name": "ipython",
    "version": 3
   },
   "file_extension": ".py",
   "mimetype": "text/x-python",
   "name": "python",
   "nbconvert_exporter": "python",
   "pygments_lexer": "ipython3",
   "version": "3.12.3"
  }
 },
 "nbformat": 4,
 "nbformat_minor": 2
}
