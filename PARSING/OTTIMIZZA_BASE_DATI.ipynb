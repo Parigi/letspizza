{
 "cells": [
  {
   "cell_type": "code",
   "execution_count": null,
   "metadata": {
    "vscode": {
     "languageId": "plaintext"
    }
   },
   "outputs": [],
   "source": [
    "MATCH (l:Licenza)\n",
    "WHERE l.Livello IS NOT NULL\n",
    "WITH l, \n",
    "CASE l.Livello\n",
    "  WHEN \"I\" THEN 1\n",
    "  WHEN \"II\" THEN 2\n",
    "  WHEN \"III\" THEN 3\n",
    "  WHEN \"IV\" THEN 4\n",
    "  WHEN \"V\" THEN 5\n",
    "  WHEN \"VI\" THEN 6\n",
    "  // Aggiungi altri casi se necessario\n",
    "  ELSE toInteger(l.Livello) // Nel caso sia già un numero in formato stringa\n",
    "END AS livelloIntero\n",
    "SET l.Livello = livelloIntero"
   ]
  }
 ],
 "metadata": {
  "language_info": {
   "name": "python"
  }
 },
 "nbformat": 4,
 "nbformat_minor": 2
}
