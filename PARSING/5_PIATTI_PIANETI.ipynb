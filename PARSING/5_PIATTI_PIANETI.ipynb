{
 "cells": [
  {
   "cell_type": "code",
   "execution_count": 1,
   "metadata": {},
   "outputs": [],
   "source": [
    "import pdfplumber\n",
    "import re\n",
    "import json\n",
    "import os\n",
    "import html\n",
    "import PyPDF2\n",
    "import pandas as pd\n",
    "\n",
    "\n",
    "from dotenv import load_dotenv\n",
    "from neo4j import GraphDatabase\n",
    "from py2neo import Graph, Node, Relationship\n",
    "from langchain_openai import AzureChatOpenAI\n",
    "from langchain_core.prompts import ChatPromptTemplate\n",
    "from langchain.text_splitter import RecursiveCharacterTextSplitter\n",
    "from typing import List, Dict, Tuple"
   ]
  },
  {
   "cell_type": "markdown",
   "metadata": {},
   "source": [
    "## METODI"
   ]
  },
  {
   "cell_type": "code",
   "execution_count": 2,
   "metadata": {},
   "outputs": [],
   "source": [
    "load_dotenv()\n",
    "# Recupera endpoint e chiave dalle variabili d'ambiente\n",
    "api_base = os.getenv(\"AZURE_OPENAI_API_BASE\")\n",
    "api_key = os.getenv(\"AZURE_OPENAI_API_KEY\")\n",
    "\n",
    "# neo4j first instance parameters\n",
    "NEO4J_URI= \"neo4j+s://0482640f.databases.neo4j.io\"\n",
    "NEO4J_USERNAME= \"neo4j\"\n",
    "NEO4J_PASSWORD= \"PNvdaZlk326-ja2hRD1K97ZUUMnD4mj0NsecZNu5-9k\"\n",
    "AURA_INSTANCEID= \"0482640f\"\n",
    "AURA_INSTANCENAME= \"Instance01\"\n",
    "\n",
    "driver = GraphDatabase.driver(NEO4J_URI, auth=(NEO4J_USERNAME, NEO4J_PASSWORD))"
   ]
  },
  {
   "cell_type": "code",
   "execution_count": 3,
   "metadata": {},
   "outputs": [],
   "source": [
    "def crea_llm(api_key: str, api_base: str) -> AzureChatOpenAI:\n",
    "    \"\"\"\n",
    "    Crea un'istanza del modello linguistico Azure OpenAI.\n",
    "    \n",
    "    Args:\n",
    "        api_key (str): La chiave API di Azure\n",
    "        api_base (str): L'URL base dell'API Azure\n",
    "        \n",
    "    Returns:\n",
    "        AzureChatOpenAI: Istanza configurata del modello\n",
    "    \"\"\"\n",
    "    return AzureChatOpenAI(\n",
    "        openai_api_version=\"2024-08-01-preview\",\n",
    "        azure_deployment=\"o1-mini\",\n",
    "        azure_endpoint=api_base,\n",
    "        api_key=api_key,\n",
    "        temperature=1\n",
    "    )\n",
    "\n",
    "llm = crea_llm(api_key, api_base)"
   ]
  },
  {
   "cell_type": "markdown",
   "metadata": {},
   "source": [
    "### METODI"
   ]
  },
  {
   "cell_type": "code",
   "execution_count": null,
   "metadata": {},
   "outputs": [],
   "source": [
    "def carica_pianeti_e_distanze(file_csv: str):\n",
    "    \"\"\"\n",
    "    Carica i pianeti come nodi e le distanze tra di loro come relazioni nel database Neo4j.\n",
    "    \n",
    "    Args:\n",
    "        file_csv (str): Percorso del file CSV contenente le distanze tra i pianeti.\n",
    "        uri (str): URI del database Neo4j.\n",
    "        user (str): Nome utente per Neo4j.\n",
    "        password (str): Password per Neo4j.\n",
    "    \"\"\"\n",
    "    \n",
    "    # Carica il file CSV usando pandas\n",
    "    df = pd.read_csv(file_csv, index_col=0)\n",
    "    \n",
    "    with driver.session() as session:\n",
    "        # Crea i nodi per i pianeti\n",
    "        pianeti = df.columns.tolist()  # Estrae i nomi dei pianeti\n",
    "        \n",
    "        for pianeta in pianeti:\n",
    "            # Crea un nodo per ciascun pianeta\n",
    "            query = \"MERGE (p:Pianeta {nome: $nome})\"\n",
    "            session.run(query, nome=pianeta)\n",
    "        \n",
    "        # Crea le relazioni DISTANZA tra i pianeti\n",
    "        for i, pianeta1 in enumerate(pianeti):\n",
    "            for j, pianeta2 in enumerate(pianeti):\n",
    "                if i < j:  # Evita di creare relazioni duplicate (ad esempio tra Tatooine e Asgard e viceversa)\n",
    "                    distanza = df.at[pianeta1, pianeta2]\n",
    "                    # Crea una relazione con la distanza tra i pianeti\n",
    "                    query = \"\"\"\n",
    "                    MATCH (p1:Pianeta {nome: $pianeta1}), (p2:Pianeta {nome: $pianeta2})\n",
    "                    MERGE (p1)-[:DISTANZA {km: $distanza}]->(p2)\n",
    "                    \"\"\"\n",
    "                    session.run(query, pianeta1=pianeta1, pianeta2=pianeta2, distanza=distanza)\n",
    "        \n",
    "        print(\"Pianeti e distanze caricate correttamente in Neo4j.\")"
   ]
  },
  {
   "cell_type": "code",
   "execution_count": null,
   "metadata": {},
   "outputs": [],
   "source": [
    "\n",
    "def carica_piatti(file_json: str):\n",
    "    \"\"\"\n",
    "    Carica i piatti e i numeri associati come nodi nel database Neo4j.\n",
    "    \n",
    "    Args:\n",
    "        file_json (str): Percorso del file JSON contenente i piatti e i numeri.\n",
    "        uri (str): URI del database Neo4j.\n",
    "        user (str): Nome utente per Neo4j.\n",
    "        password (str): Password per Neo4j.\n",
    "    \"\"\"\n",
    "    \n",
    "    # Carica il file JSON\n",
    "    with open(file_json, 'r', encoding='utf-8') as f:\n",
    "        piatti_data = json.load(f)\n",
    "    \n",
    "    with driver.session() as session:\n",
    "        for piatto, numero in piatti_data.items():\n",
    "            # Decodifica i caratteri speciali (ad esempio per trattare le sequenze \\u00e0)\n",
    "            piatto_decodificato = html.unescape(piatto)\n",
    "            \n",
    "            # Crea un nodo per ciascun piatto\n",
    "            query = \"\"\"\n",
    "            MERGE (p:Piatto {nome: $nome})\n",
    "            SET p.numero = $numero\n",
    "            \"\"\"\n",
    "            session.run(query, nome=piatto_decodificato, numero=numero)\n",
    "        \n",
    "        print(\"Piatti caricati correttamente in Neo4j.\")"
   ]
  },
  {
   "cell_type": "markdown",
   "metadata": {},
   "source": [
    "## MAIN"
   ]
  },
  {
   "cell_type": "code",
   "execution_count": null,
   "metadata": {},
   "outputs": [
    {
     "name": "stdout",
     "output_type": "stream",
     "text": [
      "Pianeti e distanze caricate correttamente in Neo4j.\n"
     ]
    }
   ],
   "source": [
    "# Esegui il codice passando il percorso del file CSV e le credenziali di Neo4j\n",
    "file_csv = '../Hackapizza Dataset/Misc/Distanze.csv'  # Percorso al tuo file CSV\n",
    "\n",
    "carica_pianeti_e_distanze(file_csv)\n"
   ]
  },
  {
   "cell_type": "code",
   "execution_count": null,
   "metadata": {},
   "outputs": [
    {
     "name": "stdout",
     "output_type": "stream",
     "text": [
      "Piatti caricati correttamente in Neo4j.\n"
     ]
    }
   ],
   "source": [
    "# Esegui il codice passando il percorso del file JSON e le credenziali di Neo4j\n",
    "file_json = '../Hackapizza Dataset/Misc/dish_mapping.json'  # Percorso al tuo file JSON\n",
    "\n",
    "carica_piatti(file_json)\n"
   ]
  }
 ],
 "metadata": {
  "kernelspec": {
   "display_name": "Python 3",
   "language": "python",
   "name": "python3"
  },
  "language_info": {
   "codemirror_mode": {
    "name": "ipython",
    "version": 3
   },
   "file_extension": ".py",
   "mimetype": "text/x-python",
   "name": "python",
   "nbconvert_exporter": "python",
   "pygments_lexer": "ipython3",
   "version": "3.12.3"
  }
 },
 "nbformat": 4,
 "nbformat_minor": 2
}
