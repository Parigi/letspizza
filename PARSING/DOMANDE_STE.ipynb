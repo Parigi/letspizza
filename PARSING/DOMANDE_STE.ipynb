{
 "cells": [
  {
   "cell_type": "code",
   "execution_count": 4,
   "metadata": {},
   "outputs": [],
   "source": [
    "import pdfplumber\n",
    "import re\n",
    "import json\n",
    "import os\n",
    "import PyPDF2\n",
    "import re\n",
    "import pandas as pd\n",
    "import sys\n",
    "import os\n",
    "\n",
    "\n",
    "from dotenv import load_dotenv\n",
    "from neo4j import GraphDatabase\n",
    "from py2neo import Graph, Node, Relationship\n",
    "from langchain_openai import AzureChatOpenAI\n",
    "from langchain_core.prompts import ChatPromptTemplate\n",
    "from langchain.text_splitter import RecursiveCharacterTextSplitter\n",
    "from typing import List, Dict, Tuple\n",
    "from langchain_neo4j import GraphCypherQAChain, Neo4jGraph\n"
   ]
  },
  {
   "cell_type": "code",
   "execution_count": 7,
   "metadata": {},
   "outputs": [
    {
     "name": "stdout",
     "output_type": "stream",
     "text": [
      "Node properties:\n",
      "- **Ordine**\n",
      "  - `nome`: STRING Available options: ['Ordine della Galassia di Andromeda', 'Ordine dei Naturalisti', 'Ordine degli Armonisti']\n",
      "  - `restrizioni`: STRING Available options: ['privo di lattosio']\n",
      "  - `obiettivo`: STRING Available options: ['creare sapori complessi senza ingredienti lattiero', 'custodire la purezza degli ingredienti', 'creare piatti che parlano al cuore']\n",
      "  - `cucina`: STRING Available options: ['diplomazia culinaria intergalattica', 'esaltare la semplicità con maestria', 'sinfonia gastronomica']\n",
      "  - `ingredienti vietati`: LIST Min Size: 3, Max Size: 3\n",
      "  - `caratteristica fisiologica`: STRING Available options: ['Intolleranza al lattosio']\n",
      "  - `trasformazioni`: STRING Available options: ['nessuna trasformazione drastica, niente manipolazi']\n",
      "  - `principio`: STRING Available options: ['Principio di Non Alterazione']\n",
      "  - `filosofia`: STRING Available options: ['Preservare la perfezione innata degli ingredienti', 'Il cibo deve entrare in risonanza con lo stato emo']\n",
      "  - `esempi`: LIST Min Size: 1, Max Size: 1\n",
      "  - `focalizzazione`: STRING Available options: ['vibrazioni sottili che si sintonizzano sullo stato']\n",
      "  - `sensibilità`: STRING Available options: ['Preparare piatti in sintonia con le frequenze emot']\n",
      "- **Licenza**\n",
      "  - `nome`: STRING Example: \"Psionica\"\n",
      "  - `livello ii`: STRING Available options: ['manipolazione della probabilità, telecinesi e tele', 'Livello I + effetti temporali che riguardano linee', '0 < G ≤ 10^6', 'Tutto lo spettro visibile umano', 'Sistema Stellare']\n",
      "  - `livello 0`: STRING Available options: ['Posseduta da tutti se non diversamente specificato', '5 < G ≤ 10, posseduta da tutti se non diversamente', 'particelle, posseduta da tutti se non diversamente', 'Polo nord e sud, posseduta da tutti se non diversa']\n",
      "  - `livello iv`: STRING Available options: ['proiezione astrale, riscrittura di realtà circoscr', 'Superamasso di Galassie']\n",
      "  - `livello iii`: STRING Available options: ['capacità di donare la coscienza e lʼintelletto ad ', 'Livello II + effetti temporali che riguardano line', 'G > 10^6', 'Tutte le frequenze', 'Galassia']\n",
      "  - `livello i`: STRING Available options: ['lettura pensiero, telecinesi e teletrasporto di og', 'effetti temporali relativi al presente come dilata', '0 < G ≤ 100', 'antiparticelle', 'Mono-polo', 'Solo colori primari (RGB)', 'Planetario']\n",
      "  - `livello v`: STRING Available options: ['riscrittura di realtà di intere linee temporali o ', 'Intero Universo']\n",
      "  - `livello n`: STRING Available options: ['Numero di stati in superposizione dove n è il nume']\n",
      "  - `livello vi`: STRING Available options: ['Universi multipli']\n",
      "  - `livello vi+`: STRING Available options: ['Tutte le fonti energia']\n",
      "  - `livello`: STRING Available options: ['zero (0)', 'I', 'III', '5', 'II']\n",
      "- **Pianeta**\n",
      "  - `nome`: STRING Example: \"Tatooine\"\n",
      "  - `montressosr`: INTEGER Min: 215, Max: 834\n",
      "  - `asgard`: INTEGER Min: 156, Max: 781\n",
      "  - `namecc`: INTEGER Min: 367, Max: 987\n",
      "  - `krypton`: INTEGER Min: 188, Max: 727\n",
      "  - `cybertron`: INTEGER Min: 186, Max: 847\n",
      "  - `pandora`: INTEGER Min: 317, Max: 1227\n",
      "  - `arrakis`: INTEGER Min: 109, Max: 1227\n",
      "  - `ego`: INTEGER Min: 156, Max: 926\n",
      "  - `klyntar`: INTEGER Min: 186, Max: 845\n",
      "  - `tatooine`: INTEGER Min: 109, Max: 1130\n",
      "- **Ristorante**\n",
      "  - `nome`: STRING Available options: ['Ordine della Galassia di Andromeda', 'Ordine dei Naturalisti', 'Ordine degli Armonisti']\n",
      "  - `restrizioni`: STRING Available options: ['Privo di lattosio, nessuna molecola originaria del']\n",
      "  - `descrizione`: STRING Available options: ['Esaltare la semplicità con maestria, senza mai tra', 'Creare piatti che parlano al cuore, adattandosi al']\n",
      "  - `principio`: STRING Available options: ['Principio di Non Alterazione']\n",
      "- **Ingrediente**\n",
      "  - `nome`: STRING Example: \"Erba Pipa\"\n",
      "  - `crp`: FLOAT Min: 0.87, Max: 0.92\n",
      "  - `iei`: FLOAT Min: 0.3, Max: 0.4\n",
      "  - `cdt`: FLOAT Min: 0.2, Max: 0.8\n",
      "  - `ipm`: FLOAT Min: 0.6, Max: 0.98\n",
      "  - `θ`: FLOAT Min: 0.7, Max: 0.9\n",
      "  - `μ`: FLOAT Min: 0.2, Max: 0.6\n",
      "  - `ibx`: FLOAT Min: 0.78, Max: 0.85\n",
      "  - `id`: FLOAT Min: 0.4, Max: 0.95\n",
      "  - `δq`: FLOAT Min: 0.16, Max: 0.45\n",
      "Relationship properties:\n",
      "\n",
      "The relationships:\n",
      "\n"
     ]
    }
   ],
   "source": [
    "load_dotenv()\n",
    "# Recupera endpoint e chiave dalle variabili d'ambiente\n",
    "api_base = os.getenv(\"AZURE_OPENAI_API_BASE\")\n",
    "api_key = os.getenv(\"AZURE_OPENAI_API_KEY\")\n",
    "\n",
    "\n",
    "NEO4J_URI= \"neo4j+s://0482640f.databases.neo4j.io\"\n",
    "NEO4J_USERNAME= \"neo4j\"\n",
    "NEO4J_PASSWORD= \"PNvdaZlk326-ja2hRD1K97ZUUMnD4mj0NsecZNu5-9k\"\n",
    "AURA_INSTANCEID= \"0482640f\"\n",
    "AURA_INSTANCENAME= \"Instance01\"\n",
    "\n",
    "graph = Neo4jGraph(url=NEO4J_URI, username=NEO4J_USERNAME, password=NEO4J_PASSWORD, enhanced_schema=True)\n",
    "\n",
    "print(graph.schema)"
   ]
  },
  {
   "cell_type": "code",
   "execution_count": 14,
   "metadata": {},
   "outputs": [
    {
     "data": {
      "text/plain": [
       "AIMessage(content='Ciao! Grazie per esserti offerto di aiutarmi. Avrei bisogno di assistenza con [specifica richiesta]. Potresti darmi una mano?', additional_kwargs={'refusal': None}, response_metadata={'token_usage': {'completion_tokens': 1133, 'prompt_tokens': 15, 'total_tokens': 1148, 'completion_tokens_details': {'accepted_prediction_tokens': None, 'audio_tokens': None, 'reasoning_tokens': 1088, 'rejected_prediction_tokens': None}, 'prompt_tokens_details': {'audio_tokens': None, 'cached_tokens': 0}}, 'model_name': 'o1-mini-2024-09-12', 'system_fingerprint': 'fp_f6ff3bb326', 'prompt_filter_results': [{'prompt_index': 0, 'content_filter_results': {'hate': {'filtered': False, 'severity': 'safe'}, 'jailbreak': {'filtered': False, 'detected': False}, 'self_harm': {'filtered': False, 'severity': 'safe'}, 'sexual': {'filtered': False, 'severity': 'safe'}, 'violence': {'filtered': False, 'severity': 'safe'}}}], 'finish_reason': 'stop', 'logprobs': None, 'content_filter_results': {'hate': {'filtered': False, 'severity': 'safe'}, 'self_harm': {'filtered': False, 'severity': 'safe'}, 'sexual': {'filtered': False, 'severity': 'safe'}, 'violence': {'filtered': False, 'severity': 'safe'}}}, id='run-ee52d8c7-42a9-40da-8dde-b50f539bb499-0', usage_metadata={'input_tokens': 15, 'output_tokens': 1133, 'total_tokens': 1148, 'input_token_details': {'cache_read': 0}, 'output_token_details': {'reasoning': 1088}})"
      ]
     },
     "execution_count": 14,
     "metadata": {},
     "output_type": "execute_result"
    }
   ],
   "source": [
    "def crea_llm(api_key: str, api_base: str) -> AzureChatOpenAI:\n",
    "    \"\"\"\n",
    "    Crea un'istanza del modello linguistico Azure OpenAI.\n",
    "    \n",
    "    Args:\n",
    "        api_key (str): La chiave API di Azure\n",
    "        api_base (str): L'URL base dell'API Azure\n",
    "        \n",
    "    Returns:\n",
    "        AzureChatOpenAI: Istanza configurata del modello\n",
    "    \"\"\"\n",
    "    return AzureChatOpenAI(\n",
    "        openai_api_version=\"2024-08-01-preview\",\n",
    "        azure_deployment=\"o1-mini\",\n",
    "        azure_endpoint=api_base,\n",
    "        api_key=api_key,\n",
    "        temperature=1\n",
    "    )\n",
    "\n",
    "llm = crea_llm(api_key, api_base)\n",
    "llm.invoke(\"Ciao, come posso aiutarti?\")"
   ]
  },
  {
   "cell_type": "code",
   "execution_count": 9,
   "metadata": {},
   "outputs": [],
   "source": [
    "chain = GraphCypherQAChain.from_llm(\n",
    "    llm, graph=graph, verbose=True, allow_dangerous_requests=True\n",
    ")"
   ]
  },
  {
   "cell_type": "code",
   "execution_count": 10,
   "metadata": {},
   "outputs": [
    {
     "name": "stdout",
     "output_type": "stream",
     "text": [
      "\n",
      "\n",
      "\u001b[1m> Entering new GraphCypherQAChain chain...\u001b[0m\n",
      "Generated Cypher:\n",
      "\u001b[32;1m\u001b[1;3mcypher\n",
      "MATCH (n) RETURN n LIMIT 0\n",
      "\u001b[0m\n",
      "Full Context:\n",
      "\u001b[32;1m\u001b[1;3m[]\u001b[0m\n",
      "\n",
      "\u001b[1m> Finished chain.\u001b[0m\n"
     ]
    },
    {
     "data": {
      "text/plain": [
       "{'query': 'Who played in Top Gun?', 'result': \"I don't know the answer.\"}"
      ]
     },
     "execution_count": 10,
     "metadata": {},
     "output_type": "execute_result"
    }
   ],
   "source": [
    "chain.invoke({\"query\": \"Who played in Top Gun?\"})\n",
    "\n"
   ]
  }
 ],
 "metadata": {
  "kernelspec": {
   "display_name": ".conda",
   "language": "python",
   "name": "python3"
  },
  "language_info": {
   "codemirror_mode": {
    "name": "ipython",
    "version": 3
   },
   "file_extension": ".py",
   "mimetype": "text/x-python",
   "name": "python",
   "nbconvert_exporter": "python",
   "pygments_lexer": "ipython3",
   "version": "3.11.8"
  }
 },
 "nbformat": 4,
 "nbformat_minor": 2
}
